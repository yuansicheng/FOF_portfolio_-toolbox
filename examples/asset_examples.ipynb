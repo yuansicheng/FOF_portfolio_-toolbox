{
 "cells": [
  {
   "cell_type": "markdown",
   "metadata": {},
   "source": [
    "# Asset数据集使用示例"
   ]
  },
  {
   "cell_type": "code",
   "execution_count": 1,
   "metadata": {},
   "outputs": [],
   "source": [
    "import os, sys, argparse, logging\n",
    "\n",
    "import pandas as pd\n",
    "import numpy as np\n",
    "from datetime import date\n",
    "\n",
    "# 首先将framework的目录加进sys.path中，方便使用相对路径导入\n",
    "framework_path = os.path.join(os.path.abspath(''), '../framework')\n",
    "if framework_path not in sys.path:\n",
    "    sys.path.append(framework_path)"
   ]
  },
  {
   "cell_type": "code",
   "execution_count": 2,
   "metadata": {},
   "outputs": [
    {
     "name": "stdout",
     "output_type": "stream",
     "text": [
      "init YamlSvc\n",
      "init YamlSvc\n",
      "init LxwWinddbRawDataSvc\n",
      "init MysqlDbConnectorSvc\n",
      "init DateSvc\n",
      "raw_data_svc.sqlQuery: SELECT TRADE_DAYS FROM asharecalendar WHERE S_INFO_EXCHMARKET='SSE' ORDER BY TRADE_DAYS\n"
     ]
    }
   ],
   "source": [
    "# 导入Asset和Group\n",
    "\n",
    "from import_func import getSvc\n",
    "\n",
    "raw_data_svc = getSvc('LxwWinddbRawDataSvc')\n",
    "date_svc = getSvc('DateSvc')\n",
    "date_svc.setTradeDays(raw_data_svc.getTradeDays())\n",
    "\n",
    "from component.asset.asset import Asset\n",
    "from component.asset.group import Group"
   ]
  },
  {
   "cell_type": "markdown",
   "metadata": {},
   "source": [
    "## 一、资产组的使用"
   ]
  },
  {
   "cell_type": "code",
   "execution_count": 3,
   "metadata": {},
   "outputs": [
    {
     "name": "stdout",
     "output_type": "stream",
     "text": [
      "**************************************************\n",
      "type(root): \n",
      " <class 'component.asset.group.Group'>\n",
      "**************************************************\n",
      "root.print():\n",
      "group: root\n"
     ]
    }
   ],
   "source": [
    "# 新建一个组作为根节点\n",
    "root = Group('root')\n",
    "\n",
    "# 打印root的类型\n",
    "print('*' * 50)\n",
    "print('type(root): \\n', type(root))\n",
    "\n",
    "# print方法打印组的层级结构\n",
    "print('*' * 50)\n",
    "print('root.print():')\n",
    "root.print()"
   ]
  },
  {
   "cell_type": "code",
   "execution_count": 4,
   "metadata": {},
   "outputs": [
    {
     "name": "stdout",
     "output_type": "stream",
     "text": [
      "**************************************************\n",
      "group: root\n",
      "\tgroup: g1\n",
      "\t\tgroup: g2\n",
      "**************************************************\n",
      "group: g1\n",
      "\tgroup: g2\n"
     ]
    }
   ],
   "source": [
    "# 新建三层的层级结构，使用addChildGroup增加子组\n",
    "root = Group('root')\n",
    "g1 = Group('g1')\n",
    "g2 = Group('g2')\n",
    "root.addChildGroup(g1)\n",
    "g1.addChildGroup(g2)\n",
    "\n",
    "print('*' * 50)\n",
    "root.print()\n",
    "\n",
    "# 任意一个组都可以打印其本身和children的结构\n",
    "print('*' * 50)\n",
    "g1.print()"
   ]
  },
  {
   "cell_type": "code",
   "execution_count": 5,
   "metadata": {},
   "outputs": [
    {
     "name": "stdout",
     "output_type": "stream",
     "text": [
      "**************************************************\n",
      "{'g1': <component.asset.group.Group object at 0x00000282F908A850>}\n",
      "**************************************************\n",
      "{'g1': <component.asset.group.Group object at 0x00000282F908A850>, 'g1/g2': <component.asset.group.Group object at 0x000002828940BD60>}\n"
     ]
    }
   ],
   "source": [
    "# 获取所有子组\n",
    "print('*' * 50)\n",
    "print(root.getChildGroup())\n",
    "\n",
    "# 循环获取所有子组\n",
    "print('*' * 50)\n",
    "print(root.getAllGroup())"
   ]
  },
  {
   "cell_type": "code",
   "execution_count": 6,
   "metadata": {},
   "outputs": [
    {
     "name": "stdout",
     "output_type": "stream",
     "text": [
      "**************************************************\n",
      "g2\n",
      "**************************************************\n",
      "g2\n",
      "**************************************************\n",
      "g2\n",
      "**************************************************\n",
      "g1\n"
     ]
    }
   ],
   "source": [
    "# 通过路径或列表访问组\n",
    "print('*' * 50)\n",
    "print(root.getGroup('g1/g2').getName())\n",
    "\n",
    "print('*' * 50)\n",
    "print(root.getGroup(['g1', 'g2']).getName())\n",
    "\n",
    "print('*' * 50)\n",
    "print(g1.getGroup('g2').getName())\n",
    "\n",
    "# 路径为空时返回自己\n",
    "print('*' * 50)\n",
    "print(g1.getGroup([]).getName())"
   ]
  },
  {
   "cell_type": "markdown",
   "metadata": {},
   "source": [
    "## 二、为资产组添加资产"
   ]
  },
  {
   "cell_type": "code",
   "execution_count": 7,
   "metadata": {},
   "outputs": [
    {
     "name": "stdout",
     "output_type": "stream",
     "text": [
      "**************************************************\n",
      "2020-01-01    1.097607\n",
      "2020-01-02    1.032423\n",
      "2020-01-03    1.044180\n",
      "2020-01-04    1.036950\n",
      "2020-01-05    1.016720\n",
      "                ...   \n",
      "2021-05-10    1.083792\n",
      "2021-05-11    1.005541\n",
      "2021-05-12    1.038874\n",
      "2021-05-13    1.084937\n",
      "2021-05-14    1.069578\n",
      "Freq: D, Length: 500, dtype: float64\n",
      "loading aindexeodprices from local_db\n",
      "**************************************************\n",
      "TRADE_DT\n",
      "1990-12-19     100.0000\n",
      "1990-12-20     104.3900\n",
      "1990-12-21     109.1300\n",
      "1990-12-24     114.5500\n",
      "1990-12-25     120.2500\n",
      "                ...    \n",
      "2022-07-19    3279.4313\n",
      "2022-07-20    3304.7243\n",
      "2022-07-21    3272.0012\n",
      "2022-07-22    3269.9739\n",
      "2022-07-25    3250.3880\n",
      "Name: S_DQ_CLOSE, Length: 7720, dtype: float64\n"
     ]
    }
   ],
   "source": [
    "# Asset类为普通资产，需要自己设置原始数据\n",
    "random_asset = Asset('random')\n",
    "random_nav = pd.Series(np.random.rand(500)/10+1, index=pd.date_range(date(2020,1,1), periods=500))\n",
    "random_asset.setRawNavdata(random_nav)\n",
    "\n",
    "print('*' * 50)\n",
    "print(random_asset.getRawNavData())\n",
    "\n",
    "# 以上证指数为例\n",
    "index_000001 = Asset('000001')\n",
    "index_000001.setRawNavdata(raw_data_svc.getNav('aindexeodprices', '000001.SH' ))\n",
    "print('*' * 50)\n",
    "print(index_000001.getRawNavData())\n"
   ]
  },
  {
   "cell_type": "code",
   "execution_count": 8,
   "metadata": {},
   "outputs": [
    {
     "name": "stdout",
     "output_type": "stream",
     "text": [
      "**************************************************\n",
      "TRADE_DAYS\n",
      "2020-12-02    3449.3805\n",
      "2020-12-03    3442.1359\n",
      "2020-12-04    3444.5814\n",
      "2020-12-07    3416.6037\n",
      "2020-12-08    3410.1771\n",
      "                ...    \n",
      "2021-04-23    3474.1660\n",
      "2021-04-26    3441.1658\n",
      "2021-04-27    3442.6111\n",
      "2021-04-28    3457.0683\n",
      "2021-04-29    3474.9011\n",
      "Length: 100, dtype: float64\n",
      "**************************************************\n",
      "True\n",
      "**************************************************\n",
      "10605\n",
      "-1\n"
     ]
    }
   ],
   "source": [
    "# 裁切数据\n",
    "# 设置id_date时，同时指定裁切数据的参数，参考datesvc\n",
    "index_000001.setIdDate(date(2021, 5, 1), 100)\n",
    "print('*' * 50)\n",
    "print(index_000001.getUsableNavData())\n",
    "\n",
    "# 资产是否可以交易\n",
    "print('*' * 50)\n",
    "print(index_000001.isTradable(date(2020, 1, 1)))\n",
    "\n",
    "# 获取资产某日的年龄\n",
    "print('*' * 50)\n",
    "print(index_000001.getAge(date(2020, 1, 1)))\n",
    "# 不在交易范围内返回-1\n",
    "print(index_000001.getAge(date(1900, 1, 1)))\n",
    "\n"
   ]
  },
  {
   "cell_type": "code",
   "execution_count": 9,
   "metadata": {},
   "outputs": [
    {
     "name": "stdout",
     "output_type": "stream",
     "text": [
      "**************************************************\n",
      "group: root\n",
      "\tgroup: g1\n",
      "\t\tasset: random\n",
      "\t\tgroup: g2\n",
      "\t\t\tasset: 000001\n",
      "**************************************************\n",
      "{'g1/random': <component.asset.asset.Asset object at 0x00000282F908AD00>, 'g1/g2/000001': <component.asset.asset.Asset object at 0x000002828940BF70>}\n",
      "**************************************************\n",
      "000001\n"
     ]
    }
   ],
   "source": [
    "# 为之前设置的资产组添加资产\n",
    "g1.addChildAsset(random_asset)\n",
    "g2.addChildAsset(index_000001)\n",
    "print('*' * 50)\n",
    "root.print()\n",
    "\n",
    "# 访问所有叶子资产\n",
    "print('*' * 50)\n",
    "print(root.getAllAsset())\n",
    "\n",
    "# 使用路径访问某个资产\n",
    "print('*' * 50)\n",
    "print(root.getAsset('g1/g2/000001').getName())"
   ]
  },
  {
   "cell_type": "markdown",
   "metadata": {},
   "source": [
    "## 三、组和资产的其他操作"
   ]
  },
  {
   "cell_type": "code",
   "execution_count": 10,
   "metadata": {},
   "outputs": [
    {
     "name": "stdout",
     "output_type": "stream",
     "text": [
      "**************************************************\n",
      "root.getWeightRange(): \n",
      "[0, 1]\n",
      "**************************************************\n",
      "random_asset.getWeightRange(): \n",
      "[0, 1]\n",
      "**************************************************\n",
      "root.getWeightRange(): \n",
      "[0.2, 0.4]\n",
      "**************************************************\n",
      "random_asset.getWeightRange(): \n",
      "[0.1, 0.8]\n"
     ]
    }
   ],
   "source": [
    "# 设置组和和资产的权重范围\n",
    "\n",
    "# 默认权重范围为0-1\n",
    "print('*' * 50)\n",
    "print('root.getWeightRange(): ')\n",
    "print(root.getWeightRange())\n",
    "print('*' * 50)\n",
    "print('random_asset.getWeightRange(): ')\n",
    "print(random_asset.getWeightRange())\n",
    "\n",
    "# 设置权重\n",
    "root.setWeightRange([0.2, 0.4])\n",
    "random_asset.setWeightRange([0.1, 0.8])\n",
    "\n",
    "print('*' * 50)\n",
    "print('root.getWeightRange(): ')\n",
    "print(root.getWeightRange())\n",
    "print('*' * 50)\n",
    "print('random_asset.getWeightRange(): ')\n",
    "print(random_asset.getWeightRange())"
   ]
  },
  {
   "cell_type": "code",
   "execution_count": 11,
   "metadata": {},
   "outputs": [
    {
     "name": "stdout",
     "output_type": "stream",
     "text": [
      "**************************************************\n",
      "group: root\n",
      "\tgroup: g1\n",
      "\t\tasset: random\n",
      "\t\tgroup: g2\n",
      "\t\t\tasset: 000001\n",
      "**************************************************\n",
      "id(root): 2761547098960, id(root_copy): 2762333245792\n",
      "**************************************************\n",
      "id(random_asset): 2761547099392, id(random_asset_copy): 2762333246848\n",
      "**************************************************\n",
      "id(root.getAsset('g1/g2/000001')): 2759671725936\n",
      "id(root_copy.getAsset('g1/g2/000001')): 2762333247472\n"
     ]
    }
   ],
   "source": [
    "# 复制组和资产\n",
    "\n",
    "root_copy = root.copy()\n",
    "print('*' * 50)\n",
    "root_copy.print()\n",
    "\n",
    "random_asset_copy = random_asset.copy()\n",
    "\n",
    "# 拷贝为深拷贝\n",
    "print('*' * 50)\n",
    "print('id(root): {}, id(root_copy): {}'.format(id(root), id(root_copy)))\n",
    "\n",
    "print('*' * 50)\n",
    "print('id(random_asset): {}, id(random_asset_copy): {}'.format(id(random_asset), id(random_asset_copy)))\n",
    "\n",
    "print('*' * 50)\n",
    "print('id(root.getAsset(\\'g1/g2/000001\\')): {}'.format(id(root.getAsset('g1/g2/000001'))))\n",
    "print('id(root_copy.getAsset(\\'g1/g2/000001\\')): {}'.format(id(root_copy.getAsset('g1/g2/000001'))))"
   ]
  }
 ],
 "metadata": {
  "kernelspec": {
   "display_name": "Python 3.7.0 ('base')",
   "language": "python",
   "name": "python3"
  },
  "language_info": {
   "codemirror_mode": {
    "name": "ipython",
    "version": 3
   },
   "file_extension": ".py",
   "mimetype": "text/x-python",
   "name": "python",
   "nbconvert_exporter": "python",
   "pygments_lexer": "ipython3",
   "version": "3.7.0"
  },
  "orig_nbformat": 4,
  "vscode": {
   "interpreter": {
    "hash": "3b2769d00d8ff3b5feae76132b67742161feb4b6223421a32fd26f3cd82b4351"
   }
  }
 },
 "nbformat": 4,
 "nbformat_minor": 2
}
