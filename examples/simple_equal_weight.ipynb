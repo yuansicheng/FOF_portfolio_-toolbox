{
 "cells": [
  {
   "cell_type": "markdown",
   "metadata": {},
   "source": [
    "# 简单等权策略"
   ]
  },
  {
   "cell_type": "markdown",
   "metadata": {},
   "source": [
    "## 一、等权算法"
   ]
  },
  {
   "cell_type": "code",
   "execution_count": 1,
   "metadata": {},
   "outputs": [],
   "source": [
    "import os, sys, argparse, logging\n",
    "import pandas as pd\n",
    "\n",
    "# 首先将framework的目录加进sys.path中，方便使用相对路径导入\n",
    "framework_path = os.path.join(os.path.abspath(''), '../framework')\n",
    "if framework_path not in sys.path:\n",
    "    sys.path.append(framework_path)"
   ]
  },
  {
   "cell_type": "code",
   "execution_count": 2,
   "metadata": {},
   "outputs": [],
   "source": [
    "from alg.alg_base import AlgBase\n",
    "\n",
    "# 等权算法，传入资产字典和总权重\n",
    "class EqualWeightAlg(AlgBase):\n",
    "    def __init__(self, name) -> None:\n",
    "        super().__init__(name)\n",
    "\n",
    "    def run(self, asset_dict, weight_sum):\n",
    "        return {asset: weight_sum/len(asset_dict) for asset in asset_dict}"
   ]
  },
  {
   "cell_type": "code",
   "execution_count": 3,
   "metadata": {},
   "outputs": [
    {
     "name": "stdout",
     "output_type": "stream",
     "text": [
      "init YamlSvc\n",
      "init DateSvc\n",
      "{0: 0.19999999999999998, 1: 0.19999999999999998, 2: 0.19999999999999998}\n"
     ]
    }
   ],
   "source": [
    "# 测试算法\n",
    "\n",
    "# 创建一个dummy的数据集\n",
    "from component.asset.asset import Asset\n",
    "dummy_dict = {i: Asset(str(i)) for i in range(3)}\n",
    "\n",
    "ewa = EqualWeightAlg('equal_weight')\n",
    "print(ewa.run(dummy_dict, 0.6))"
   ]
  },
  {
   "cell_type": "markdown",
   "metadata": {},
   "source": [
    "## 二、创建单期策略"
   ]
  },
  {
   "cell_type": "code",
   "execution_count": 8,
   "metadata": {},
   "outputs": [
    {
     "name": "stdout",
     "output_type": "stream",
     "text": [
      "raw_data_svc.sqlQuery: SELECT TRADE_DAYS FROM asharecalendar WHERE S_INFO_EXCHMARKET='SSE' ORDER BY TRADE_DAYS\n"
     ]
    }
   ],
   "source": [
    "from import_func import getSvc\n",
    "raw_data_svc = getSvc('LxwWinddbRawDataSvc')\n",
    "date_svc = getSvc('DateSvc')\n",
    "date_svc.setTradeDays(raw_data_svc.getTradeDays())\n",
    "\n",
    "from strategy.strategy_base import StrategyBase\n",
    "\n",
    "class MyStrategy(StrategyBase):\n",
    "    def __init__(self, name, args={}) -> None:\n",
    "        super().__init__(name, args={})\n",
    "\n",
    "    def _initAlgDict(self):\n",
    "        super()._initAlgDict()\n",
    "        self._alg_dict['equal_weight'] = EqualWeightAlg('equal_weight')\n",
    "\n",
    "    def _initDataset(self):\n",
    "        super()._initDataset()\n",
    "\n",
    "        a_000001 = Asset('000001.SH')\n",
    "        a_000001.setRawNavData(raw_data_svc.getNav('aindexeodprices', '000001.SH'))\n",
    "\n",
    "        a_000003 = Asset('000003.SH')\n",
    "        a_000003.setRawNavData(raw_data_svc.getNav('aindexeodprices', '000003.SH'))\n",
    "\n",
    "        self.getDataset().addChildAsset(a_000001)\n",
    "        self.getDataset().addChildAsset(a_000003)\n",
    "\n",
    "    def run(self, id_date):\n",
    "        # first set id_date\n",
    "        self.getDataset().setIdDateRecursively(id_date, 252)\n",
    "\n",
    "        alg_input = self.getDataset().getAllAsset(pop_cash=True)\n",
    "        return self._alg_dict['equal_weight'].run(alg_input, 0.5)\n"
   ]
  },
  {
   "cell_type": "code",
   "execution_count": 9,
   "metadata": {},
   "outputs": [
    {
     "name": "stdout",
     "output_type": "stream",
     "text": [
      "group: root\n",
      "\tasset: cash\n",
      "\tasset: 000001.SH\n",
      "\tasset: 000003.SH\n",
      "{'000001.SH': 0.25, '000003.SH': 0.25}\n"
     ]
    }
   ],
   "source": [
    "from datetime import datetime\n",
    "\n",
    "# 测试单期策略\n",
    "my_strategy = MyStrategy('test')\n",
    "\n",
    "my_strategy._dataset.print()\n",
    "print(my_strategy.run(datetime(2020, 1, 5)))"
   ]
  }
 ],
 "metadata": {
  "kernelspec": {
   "display_name": "Python 3.7.0 ('base')",
   "language": "python",
   "name": "python3"
  },
  "language_info": {
   "codemirror_mode": {
    "name": "ipython",
    "version": 3
   },
   "file_extension": ".py",
   "mimetype": "text/x-python",
   "name": "python",
   "nbconvert_exporter": "python",
   "pygments_lexer": "ipython3",
   "version": "3.7.0"
  },
  "orig_nbformat": 4,
  "vscode": {
   "interpreter": {
    "hash": "3b2769d00d8ff3b5feae76132b67742161feb4b6223421a32fd26f3cd82b4351"
   }
  }
 },
 "nbformat": 4,
 "nbformat_minor": 2
}
