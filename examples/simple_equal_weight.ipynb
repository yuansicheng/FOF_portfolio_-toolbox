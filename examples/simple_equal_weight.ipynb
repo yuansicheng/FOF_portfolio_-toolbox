{
 "cells": [
  {
   "cell_type": "markdown",
   "metadata": {},
   "source": [
    "# 简单等权策略"
   ]
  },
  {
   "cell_type": "code",
   "execution_count": 1,
   "metadata": {},
   "outputs": [],
   "source": [
    "import os, sys, argparse, logging\n",
    "import pandas as pd\n",
    "\n",
    "# 首先将framework的目录加进sys.path中，方便使用相对路径导入\n",
    "framework_path = os.path.join(os.path.abspath(''), '../framework')\n",
    "if framework_path not in sys.path:\n",
    "    sys.path.append(framework_path)"
   ]
  },
  {
   "cell_type": "code",
   "execution_count": 2,
   "metadata": {},
   "outputs": [],
   "source": [
    "# 设置logging格式和级别\n",
    "logging.basicConfig(\n",
    "    level=logging.DEBUG,\n",
    "    format='%(filename)s-line%(lineno)d %(levelname)s: %(message)s'\n",
    "    )"
   ]
  },
  {
   "cell_type": "markdown",
   "metadata": {},
   "source": [
    "## 1. 等权算法"
   ]
  },
  {
   "cell_type": "code",
   "execution_count": 3,
   "metadata": {},
   "outputs": [],
   "source": [
    "from alg.alg_base import AlgBase\n",
    "\n",
    "# 等权算法，传入资产字典和总权重\n",
    "class EqualWeightAlg(AlgBase):\n",
    "    def __init__(self, name) -> None:\n",
    "        super().__init__(name)\n",
    "\n",
    "    def run(self, asset_dict, weight_sum):\n",
    "        logging.debug('EqualWeightAlg: run')\n",
    "        return {asset: weight_sum/len(asset_dict) for asset in asset_dict}"
   ]
  },
  {
   "cell_type": "code",
   "execution_count": 4,
   "metadata": {},
   "outputs": [
    {
     "name": "stderr",
     "output_type": "stream",
     "text": [
      "880960759.py-line9 DEBUG: EqualWeightAlg: run\n"
     ]
    },
    {
     "name": "stdout",
     "output_type": "stream",
     "text": [
      "init YamlSvc\n",
      "init DateSvc\n",
      "{0: 0.19999999999999998, 1: 0.19999999999999998, 2: 0.19999999999999998}\n"
     ]
    }
   ],
   "source": [
    "# 测试算法\n",
    "\n",
    "# 创建一个dummy的数据集\n",
    "from component.asset.asset import Asset\n",
    "dummy_dict = {i: Asset(str(i)) for i in range(3)}\n",
    "\n",
    "ewa = EqualWeightAlg('equal_weight')\n",
    "print(ewa.run(dummy_dict, 0.6))"
   ]
  },
  {
   "cell_type": "markdown",
   "metadata": {},
   "source": [
    "## 2. 创建单期策略"
   ]
  },
  {
   "cell_type": "code",
   "execution_count": 5,
   "metadata": {},
   "outputs": [
    {
     "name": "stdout",
     "output_type": "stream",
     "text": [
      "init YamlSvc\n",
      "init LxwWinddbRawDataSvc\n",
      "init MysqlDbConnectorSvc\n"
     ]
    },
    {
     "name": "stderr",
     "output_type": "stream",
     "text": [
      "lxw_winddb_sql_raw_data_svc.py-line68 DEBUG: raw_data_svc.sqlQuery: SELECT TRADE_DAYS FROM asharecalendar WHERE S_INFO_EXCHMARKET='SSE' ORDER BY TRADE_DAYS\n",
      "date_svc.py-line31 INFO: DateSvc: set trade days\n"
     ]
    },
    {
     "name": "stdout",
     "output_type": "stream",
     "text": [
      "init ConstantSvc\n"
     ]
    }
   ],
   "source": [
    "from import_func import getSvc\n",
    "raw_data_svc = getSvc('LxwWinddbRawDataSvc')\n",
    "date_svc = getSvc('DateSvc')\n",
    "date_svc.setTradeDays(raw_data_svc.getTradeDays())\n",
    "\n",
    "from strategy.strategy_base import StrategyBase\n",
    "\n",
    "from component.position_manager.group_position_manager import GroupPositionManager\n",
    "from component.position_manager.asset_position_manager import AssetPositionManager\n",
    "\n",
    "class MyStrategy(StrategyBase):\n",
    "    def __init__(self, name, args={}) -> None:\n",
    "        super().__init__(name, args={})\n",
    "\n",
    "    # 设置需要使用的算法\n",
    "    def _initAlgDict(self):\n",
    "        self._alg_dict['equal_weight'] = EqualWeightAlg('equal_weight')\n",
    "\n",
    "    # 设置数据集\n",
    "    def _initDataset(self):\n",
    "        # 父类方法初始化数据集并添加cash资产\n",
    "        super()._initDataset(init_position_manager=True)\n",
    "\n",
    "        a_000001 = Asset('000001.SH')\n",
    "        a_000001.setRawNavData(raw_data_svc.getNav('aindexeodprices', '000001.SH'))\n",
    "\n",
    "        a_000003 = Asset('000003.SH')\n",
    "        a_000003.setRawNavData(raw_data_svc.getNav('aindexeodprices', '000003.SH'))\n",
    "\n",
    "        self.getDataset().addChildAsset(a_000001)\n",
    "        self.getDataset().addChildAsset(a_000003)\n",
    "\n",
    "        # 如果进行回测，需要为每个资产初始化一个仓位管理器\n",
    "        a_000001.setPositionManager(AssetPositionManager())\n",
    "        a_000003.setPositionManager(AssetPositionManager())\n",
    "        \n",
    "\n",
    "    def run(self, id_date):\n",
    "        logging.debug('{}: MyStrategy: run'.format(id_date))\n",
    "        # 设置数据集的id_date\n",
    "        self.setIdDate(id_date, 252)\n",
    "\n",
    "        # 构造算法要求的输入并执行算法\n",
    "        alg_input = self.getDataset().getAllAsset(ignore_cash=True, id_date=id_date)\n",
    "        return self._alg_dict['equal_weight'].run(alg_input, 0.5), []\n"
   ]
  },
  {
   "cell_type": "code",
   "execution_count": 6,
   "metadata": {},
   "outputs": [
    {
     "name": "stderr",
     "output_type": "stream",
     "text": [
      "strategy_base.py-line49 INFO: strategy test: init dataset\n",
      "lxw_winddb_local_raw_data_svc.py-line51 DEBUG: loading aindexeodprices from local_db\n",
      "910012343.py-line39 DEBUG: 2020-01-05 00:00:00: MyStrategy: run\n",
      "880960759.py-line9 DEBUG: EqualWeightAlg: run\n"
     ]
    },
    {
     "name": "stdout",
     "output_type": "stream",
     "text": [
      "group: root\n",
      "\tasset: cash\n",
      "\tasset: 000001.SH\n",
      "\tasset: 000003.SH\n",
      "({'000001.SH': 0.25, '000003.SH': 0.25}, [])\n"
     ]
    }
   ],
   "source": [
    "from datetime import datetime\n",
    "\n",
    "# 测试单期策略\n",
    "my_strategy = MyStrategy('test')\n",
    "\n",
    "my_strategy._dataset.print()\n",
    "print(my_strategy.run(datetime(2020, 1, 5)))"
   ]
  },
  {
   "cell_type": "markdown",
   "metadata": {},
   "source": [
    "# 3. 执行回测"
   ]
  },
  {
   "cell_type": "code",
   "execution_count": 7,
   "metadata": {},
   "outputs": [
    {
     "name": "stderr",
     "output_type": "stream",
     "text": [
      "strategy_base.py-line49 INFO: strategy test: init dataset\n",
      "backtest_manager.py-line24 INFO: init BackTestManager\n",
      "backtest_manager.py-line59 INFO: setting date index\n",
      "backtest_manager.py-line66 INFO: setting init cash\n",
      "strategy_base.py-line63 INFO: test: init cash\n",
      "backtest:   0%|          | 0/2 [00:00<?, ?days/s]backtest_manager.py-line142 DEBUG: backtest: 2010-01-04 00:00:00\n",
      "backtest_manager.py-line146 DEBUG: 2010-01-04 00:00:00, update after close\n",
      "backtest_manager.py-line151 DEBUG: 2010-01-04 00:00:00, run strategy\n",
      "910012343.py-line39 DEBUG: 2010-01-04 00:00:00: MyStrategy: run\n",
      "880960759.py-line9 DEBUG: EqualWeightAlg: run\n",
      "backtest_manager.py-line158 DEBUG: 2010-01-04 00:00:00, convert orders\n",
      "backtest_manager.py-line164 DEBUG: 2010-01-04 00:00:00, execute orders\n",
      "backtest_manager.py-line168 DEBUG: 2010-01-04 00:00:00, update after execute orders\n",
      "backtest:  50%|█████     | 1/2 [00:00<00:00,  3.54days/s]backtest_manager.py-line142 DEBUG: backtest: 2010-01-05 00:00:00\n",
      "backtest_manager.py-line146 DEBUG: 2010-01-05 00:00:00, update after close\n",
      "backtest_manager.py-line168 DEBUG: 2010-01-05 00:00:00, update after execute orders\n",
      "backtest: 100%|██████████| 2/2 [00:00<00:00,  5.76days/s]\n"
     ]
    }
   ],
   "source": [
    "from backtest_manager.backtest_manager import BackTestManager\n",
    "\n",
    "args = {\n",
    "    'date_range': [[2010, 1, 1], [2010, 1, 5]], \n",
    "    'frequency': 'monthly', \n",
    "    'cash': 1e4, \n",
    "    }\n",
    "\n",
    "my_backtest_manager = BackTestManager(\n",
    "    MyStrategy('test'), # 策略实例\n",
    "    name = 'equal_weight_backtest', \n",
    "    args = args, \n",
    ")\n",
    "\n",
    "my_backtest_manager.backtest()"
   ]
  },
  {
   "cell_type": "code",
   "execution_count": 8,
   "metadata": {},
   "outputs": [
    {
     "name": "stdout",
     "output_type": "stream",
     "text": [
      "**************************************************\n",
      "strategy: \n",
      "                position  weight  transection_cost    investment  \\\n",
      "2010-01-04  10000.590835     1.0               0.0  10000.295418   \n",
      "2010-01-05  10063.938934     1.0               0.0  10000.295418   \n",
      "\n",
      "            holding_return  holding_yield  historical_return  total_return  \\\n",
      "2010-01-04        0.295418       0.000030           0.295418      0.590835   \n",
      "2010-01-05       63.643516       0.006364           0.295418     63.938934   \n",
      "\n",
      "                 nav        shares  \n",
      "2010-01-04  1.000000  10000.590835  \n",
      "2010-01-05  1.006334  10000.590835  \n",
      "**************************************************\n",
      "cash: \n",
      "      position    weight  transection_cost  investment  holding_return  \\\n",
      "0  5000.295418  0.500000               0.0      5000.0        0.295418   \n",
      "1  5000.590853  0.496882               0.0      5000.0        0.590853   \n",
      "\n",
      "   holding_yield  historical_return  total_return  \n",
      "0       0.000059           0.295418      0.590835  \n",
      "1       0.000118           0.295418      0.886271  \n",
      "**************************************************\n",
      "000001.SH: \n",
      "               position    weight  transection_cost   investment  \\\n",
      "2010-01-04  2500.147709  0.250000               0.0  2500.147709   \n",
      "2010-01-05  2529.759386  0.251369               0.0  2500.147709   \n",
      "\n",
      "            holding_return  holding_yield  historical_return  total_return  \n",
      "2010-01-04        0.000000       0.000000                0.0      0.000000  \n",
      "2010-01-05       29.611677       0.011844                0.0     29.611677  \n",
      "**************************************************\n",
      "orders: \n",
      "        date      asset        money  executed  execute_money  \\\n",
      "0 2010-01-04  000001.SH  2500.147709         1    2500.147709   \n",
      "1 2010-01-04  000003.SH  2500.147709         1    2500.147709   \n",
      "\n",
      "   transection_cost  clear_all orther  \n",
      "0               0.0          0         \n",
      "1               0.0          0         \n"
     ]
    }
   ],
   "source": [
    "# 检查回测结果\n",
    "\n",
    "# 策略历史仓位\n",
    "print('*' * 50)\n",
    "print('strategy: ')\n",
    "print(my_backtest_manager.getDataset().getPositionManager().getHistoricalData())\n",
    "\n",
    "# 现金历史仓位\n",
    "print('*' * 50)\n",
    "print('cash: ')\n",
    "print(my_backtest_manager.getDataset().getAsset('cash').getPositionManager().getHistoricalData())\n",
    "\n",
    "# 000001.SH历史仓位\n",
    "print('*' * 50)\n",
    "print('000001.SH: ')\n",
    "print(my_backtest_manager.getDataset().getAsset('000001.SH').getPositionManager().getHistoricalData())\n",
    "\n",
    "# 历史订单\n",
    "print('*' * 50)\n",
    "print('orders: ')\n",
    "print(my_backtest_manager.getOrderManager().getAllOrders())"
   ]
  }
 ],
 "metadata": {
  "interpreter": {
   "hash": "2a2a19ddea09eb63f5fb3396b4df9fda5b0a8f8a0e122eead7773c9f07ca9ee4"
  },
  "kernelspec": {
   "display_name": "Python 3.8.0 ('py38')",
   "language": "python",
   "name": "python3"
  },
  "language_info": {
   "codemirror_mode": {
    "name": "ipython",
    "version": 3
   },
   "file_extension": ".py",
   "mimetype": "text/x-python",
   "name": "python",
   "nbconvert_exporter": "python",
   "pygments_lexer": "ipython3",
   "version": "3.8.13"
  },
  "orig_nbformat": 4,
  "vscode": {
   "interpreter": {
    "hash": "2792964f3dcf50b23a92b033166e06ea17b539f17d690189f59366d68e27ccdb"
   }
  }
 },
 "nbformat": 4,
 "nbformat_minor": 2
}
