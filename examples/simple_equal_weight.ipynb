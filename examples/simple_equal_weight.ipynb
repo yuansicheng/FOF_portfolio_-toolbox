{
 "cells": [
  {
   "cell_type": "markdown",
   "metadata": {},
   "source": [
    "# 简单等权策略"
   ]
  },
  {
   "cell_type": "code",
   "execution_count": 1,
   "metadata": {},
   "outputs": [],
   "source": [
    "import os, sys, argparse, logging\n",
    "import pandas as pd\n",
    "\n",
    "# 首先将framework的目录加进sys.path中，方便使用相对路径导入\n",
    "framework_path = os.path.join(os.path.abspath(''), '../framework')\n",
    "if framework_path not in sys.path:\n",
    "    sys.path.append(framework_path)"
   ]
  },
  {
   "cell_type": "code",
   "execution_count": 2,
   "metadata": {},
   "outputs": [],
   "source": [
    "# 设置logging格式和级别\n",
    "logging.basicConfig(\n",
    "    level=logging.DEBUG,\n",
    "    format='%(filename)s-line%(lineno)d %(levelname)s: %(message)s'\n",
    "    )"
   ]
  },
  {
   "cell_type": "markdown",
   "metadata": {},
   "source": [
    "## 1. 等权算法"
   ]
  },
  {
   "cell_type": "code",
   "execution_count": 3,
   "metadata": {},
   "outputs": [],
   "source": [
    "from alg.alg_base import AlgBase\n",
    "\n",
    "# 等权算法，传入资产字典和总权重\n",
    "class EqualWeightAlg(AlgBase):\n",
    "    def __init__(self, name) -> None:\n",
    "        super().__init__(name)\n",
    "\n",
    "    def run(self, asset_dict, weight_sum):\n",
    "        logging.debug('EqualWeightAlg: run')\n",
    "        return {asset: weight_sum/len(asset_dict) for asset in asset_dict}"
   ]
  },
  {
   "cell_type": "code",
   "execution_count": 4,
   "metadata": {},
   "outputs": [
    {
     "name": "stderr",
     "output_type": "stream",
     "text": [
      "880960759.py-line9 DEBUG: EqualWeightAlg: run\n"
     ]
    },
    {
     "name": "stdout",
     "output_type": "stream",
     "text": [
      "init YamlSvc\n",
      "init DateSvc\n",
      "{0: 0.19999999999999998, 1: 0.19999999999999998, 2: 0.19999999999999998}\n"
     ]
    }
   ],
   "source": [
    "# 测试算法\n",
    "\n",
    "# 创建一个dummy的数据集\n",
    "from component.asset.asset import Asset\n",
    "dummy_dict = {i: Asset(str(i)) for i in range(3)}\n",
    "\n",
    "ewa = EqualWeightAlg('equal_weight')\n",
    "print(ewa.run(dummy_dict, 0.6))"
   ]
  },
  {
   "cell_type": "markdown",
   "metadata": {},
   "source": [
    "## 2. 创建单期策略"
   ]
  },
  {
   "cell_type": "code",
   "execution_count": 5,
   "metadata": {},
   "outputs": [
    {
     "name": "stderr",
     "output_type": "stream",
     "text": [
      "lxw_winddb_sql_raw_data_svc.py-line68 DEBUG: raw_data_svc.sqlQuery: SELECT TRADE_DAYS FROM asharecalendar WHERE S_INFO_EXCHMARKET='SSE' ORDER BY TRADE_DAYS\n"
     ]
    },
    {
     "name": "stdout",
     "output_type": "stream",
     "text": [
      "init YamlSvc\n",
      "init LxwWinddbRawDataSvc\n",
      "init MysqlDbConnectorSvc\n"
     ]
    },
    {
     "name": "stderr",
     "output_type": "stream",
     "text": [
      "date_svc.py-line31 INFO: DateSvc: set trade days\n"
     ]
    },
    {
     "name": "stdout",
     "output_type": "stream",
     "text": [
      "init ConstantSvc\n"
     ]
    }
   ],
   "source": [
    "from import_func import getSvc\n",
    "raw_data_svc = getSvc('LxwWinddbRawDataSvc')\n",
    "date_svc = getSvc('DateSvc')\n",
    "date_svc.setTradeDays(raw_data_svc.getTradeDays())\n",
    "\n",
    "from strategy.strategy_base import StrategyBase\n",
    "\n",
    "from component.position_manager.group_position_manager import GroupPositionManager\n",
    "from component.position_manager.asset_position_manager import AssetPositionManager\n",
    "\n",
    "class MyStrategy(StrategyBase):\n",
    "    def __init__(self, name, args={}) -> None:\n",
    "        super().__init__(name, args={})\n",
    "\n",
    "    # 设置需要使用的算法\n",
    "    def _initAlgDict(self):\n",
    "        self._alg_dict['equal_weight'] = EqualWeightAlg('equal_weight')\n",
    "\n",
    "    # 设置数据集\n",
    "    def _initDataset(self):\n",
    "        # 父类方法初始化数据集并添加cash资产\n",
    "        super()._initDataset(init_position_manager=True)\n",
    "\n",
    "        a_000001 = Asset('000001.SH')\n",
    "        a_000001.setRawNavData(raw_data_svc.getNav('aindexeodprices', '000001.SH'))\n",
    "\n",
    "        a_000003 = Asset('000003.SH')\n",
    "        a_000003.setRawNavData(raw_data_svc.getNav('aindexeodprices', '000003.SH'))\n",
    "\n",
    "        self.getDataset().addChildAsset(a_000001)\n",
    "        self.getDataset().addChildAsset(a_000003)\n",
    "\n",
    "        # 如果进行回测，需要为每个资产初始化一个仓位管理器\n",
    "        a_000001.setPositionManager(AssetPositionManager())\n",
    "        a_000003.setPositionManager(AssetPositionManager())\n",
    "        \n",
    "\n",
    "    def run(self, id_date):\n",
    "        logging.debug('{}: MyStrategy: run'.format(id_date))\n",
    "        # 设置数据集的id_date\n",
    "        self.getDataset().setIdDateRecursively(id_date, 252)\n",
    "\n",
    "        # 构造算法要求的输入并执行算法\n",
    "        alg_input = self.getDataset().getAllAsset(ignore_cash=True, id_date=id_date)\n",
    "        return self._alg_dict['equal_weight'].run(alg_input, 0.5), []\n"
   ]
  },
  {
   "cell_type": "code",
   "execution_count": 6,
   "metadata": {},
   "outputs": [
    {
     "name": "stderr",
     "output_type": "stream",
     "text": [
      "strategy_base.py-line47 INFO: strategy test: init dataset\n",
      "lxw_winddb_local_raw_data_svc.py-line51 DEBUG: loading aindexeodprices from local_db\n",
      "4051104135.py-line39 DEBUG: 2020-01-05 00:00:00: MyStrategy: run\n"
     ]
    },
    {
     "name": "stdout",
     "output_type": "stream",
     "text": [
      "group: root\n",
      "\tasset: cash\n",
      "\tasset: 000001.SH\n",
      "\tasset: 000003.SH\n"
     ]
    },
    {
     "name": "stderr",
     "output_type": "stream",
     "text": [
      "880960759.py-line9 DEBUG: EqualWeightAlg: run\n"
     ]
    },
    {
     "name": "stdout",
     "output_type": "stream",
     "text": [
      "({'000001.SH': 0.25, '000003.SH': 0.25}, [])\n"
     ]
    }
   ],
   "source": [
    "from datetime import datetime\n",
    "\n",
    "# 测试单期策略\n",
    "my_strategy = MyStrategy('test')\n",
    "\n",
    "my_strategy._dataset.print()\n",
    "print(my_strategy.run(datetime(2020, 1, 5)))"
   ]
  },
  {
   "cell_type": "markdown",
   "metadata": {},
   "source": [
    "# 3. 执行回测"
   ]
  },
  {
   "cell_type": "code",
   "execution_count": 7,
   "metadata": {},
   "outputs": [
    {
     "name": "stderr",
     "output_type": "stream",
     "text": [
      "strategy_base.py-line47 INFO: strategy test: init dataset\n",
      "backtest_manager.py-line24 INFO: init BackTestManager\n",
      "backtest_manager.py-line59 INFO: setting date index\n",
      "backtest_manager.py-line66 INFO: setting init cash\n",
      "strategy_base.py-line61 INFO: test: init cash\n",
      "backtest:   0%|          | 0/242 [00:00<?, ?days/s]backtest_manager.py-line134 DEBUG: backtest: 2010-01-04 00:00:00\n",
      "backtest_manager.py-line138 DEBUG: 2010-01-04 00:00:00, run strategy\n",
      "4051104135.py-line39 DEBUG: 2010-01-04 00:00:00: MyStrategy: run\n",
      "880960759.py-line9 DEBUG: EqualWeightAlg: run\n",
      "backtest_manager.py-line145 DEBUG: 2010-01-04 00:00:00, update after close\n",
      "c:\\Users\\Dell\\Documents\\SynologyDrive\\实习\\国君研究所\\工作\\FOF_portfolio\\examples\\../framework\\component\\position_manager\\group_position_manager.py:33: RuntimeWarning: divide by zero encountered in double_scalars\n",
      "  self.nav *= new_position / self.position\n",
      "backtest_manager.py-line149 DEBUG: 2010-01-04 00:00:00, convert orders\n",
      "backtest:   0%|          | 0/242 [00:00<?, ?days/s]\n"
     ]
    },
    {
     "ename": "AttributeError",
     "evalue": "'Group' object has no attribute 'getAllAssets'",
     "output_type": "error",
     "traceback": [
      "\u001b[1;31m---------------------------------------------------------------------------\u001b[0m",
      "\u001b[1;31mAttributeError\u001b[0m                            Traceback (most recent call last)",
      "\u001b[1;32mc:\\Users\\Dell\\Documents\\SynologyDrive\\实习\\国君研究所\\工作\\FOF_portfolio\\examples\\simple_equal_weight.ipynb Cell 11\u001b[0m in \u001b[0;36m<cell line: 15>\u001b[1;34m()\u001b[0m\n\u001b[0;32m      <a href='vscode-notebook-cell:/c%3A/Users/Dell/Documents/SynologyDrive/%E5%AE%9E%E4%B9%A0/%E5%9B%BD%E5%90%9B%E7%A0%94%E7%A9%B6%E6%89%80/%E5%B7%A5%E4%BD%9C/FOF_portfolio/examples/simple_equal_weight.ipynb#X13sZmlsZQ%3D%3D?line=2'>3</a>\u001b[0m args \u001b[39m=\u001b[39m {\n\u001b[0;32m      <a href='vscode-notebook-cell:/c%3A/Users/Dell/Documents/SynologyDrive/%E5%AE%9E%E4%B9%A0/%E5%9B%BD%E5%90%9B%E7%A0%94%E7%A9%B6%E6%89%80/%E5%B7%A5%E4%BD%9C/FOF_portfolio/examples/simple_equal_weight.ipynb#X13sZmlsZQ%3D%3D?line=3'>4</a>\u001b[0m     \u001b[39m'\u001b[39m\u001b[39mdate_range\u001b[39m\u001b[39m'\u001b[39m: [[\u001b[39m2010\u001b[39m, \u001b[39m1\u001b[39m, \u001b[39m1\u001b[39m], [\u001b[39m2010\u001b[39m, \u001b[39m12\u001b[39m, \u001b[39m31\u001b[39m]], \n\u001b[0;32m      <a href='vscode-notebook-cell:/c%3A/Users/Dell/Documents/SynologyDrive/%E5%AE%9E%E4%B9%A0/%E5%9B%BD%E5%90%9B%E7%A0%94%E7%A9%B6%E6%89%80/%E5%B7%A5%E4%BD%9C/FOF_portfolio/examples/simple_equal_weight.ipynb#X13sZmlsZQ%3D%3D?line=4'>5</a>\u001b[0m     \u001b[39m'\u001b[39m\u001b[39mfrequency\u001b[39m\u001b[39m'\u001b[39m: \u001b[39m'\u001b[39m\u001b[39mmonthly\u001b[39m\u001b[39m'\u001b[39m, \n\u001b[0;32m      <a href='vscode-notebook-cell:/c%3A/Users/Dell/Documents/SynologyDrive/%E5%AE%9E%E4%B9%A0/%E5%9B%BD%E5%90%9B%E7%A0%94%E7%A9%B6%E6%89%80/%E5%B7%A5%E4%BD%9C/FOF_portfolio/examples/simple_equal_weight.ipynb#X13sZmlsZQ%3D%3D?line=5'>6</a>\u001b[0m     \u001b[39m'\u001b[39m\u001b[39mcash\u001b[39m\u001b[39m'\u001b[39m: \u001b[39m1e4\u001b[39m, \n\u001b[0;32m      <a href='vscode-notebook-cell:/c%3A/Users/Dell/Documents/SynologyDrive/%E5%AE%9E%E4%B9%A0/%E5%9B%BD%E5%90%9B%E7%A0%94%E7%A9%B6%E6%89%80/%E5%B7%A5%E4%BD%9C/FOF_portfolio/examples/simple_equal_weight.ipynb#X13sZmlsZQ%3D%3D?line=6'>7</a>\u001b[0m     }\n\u001b[0;32m      <a href='vscode-notebook-cell:/c%3A/Users/Dell/Documents/SynologyDrive/%E5%AE%9E%E4%B9%A0/%E5%9B%BD%E5%90%9B%E7%A0%94%E7%A9%B6%E6%89%80/%E5%B7%A5%E4%BD%9C/FOF_portfolio/examples/simple_equal_weight.ipynb#X13sZmlsZQ%3D%3D?line=8'>9</a>\u001b[0m my_backtest_manager \u001b[39m=\u001b[39m BackTestManager(\n\u001b[0;32m     <a href='vscode-notebook-cell:/c%3A/Users/Dell/Documents/SynologyDrive/%E5%AE%9E%E4%B9%A0/%E5%9B%BD%E5%90%9B%E7%A0%94%E7%A9%B6%E6%89%80/%E5%B7%A5%E4%BD%9C/FOF_portfolio/examples/simple_equal_weight.ipynb#X13sZmlsZQ%3D%3D?line=9'>10</a>\u001b[0m     MyStrategy(\u001b[39m'\u001b[39m\u001b[39mtest\u001b[39m\u001b[39m'\u001b[39m), \u001b[39m# 策略实例\u001b[39;00m\n\u001b[0;32m     <a href='vscode-notebook-cell:/c%3A/Users/Dell/Documents/SynologyDrive/%E5%AE%9E%E4%B9%A0/%E5%9B%BD%E5%90%9B%E7%A0%94%E7%A9%B6%E6%89%80/%E5%B7%A5%E4%BD%9C/FOF_portfolio/examples/simple_equal_weight.ipynb#X13sZmlsZQ%3D%3D?line=10'>11</a>\u001b[0m     name \u001b[39m=\u001b[39m (\u001b[39m'\u001b[39m\u001b[39mequal_weight_backtest\u001b[39m\u001b[39m'\u001b[39m), \n\u001b[0;32m     <a href='vscode-notebook-cell:/c%3A/Users/Dell/Documents/SynologyDrive/%E5%AE%9E%E4%B9%A0/%E5%9B%BD%E5%90%9B%E7%A0%94%E7%A9%B6%E6%89%80/%E5%B7%A5%E4%BD%9C/FOF_portfolio/examples/simple_equal_weight.ipynb#X13sZmlsZQ%3D%3D?line=11'>12</a>\u001b[0m     args \u001b[39m=\u001b[39m args, \n\u001b[0;32m     <a href='vscode-notebook-cell:/c%3A/Users/Dell/Documents/SynologyDrive/%E5%AE%9E%E4%B9%A0/%E5%9B%BD%E5%90%9B%E7%A0%94%E7%A9%B6%E6%89%80/%E5%B7%A5%E4%BD%9C/FOF_portfolio/examples/simple_equal_weight.ipynb#X13sZmlsZQ%3D%3D?line=12'>13</a>\u001b[0m )\n\u001b[1;32m---> <a href='vscode-notebook-cell:/c%3A/Users/Dell/Documents/SynologyDrive/%E5%AE%9E%E4%B9%A0/%E5%9B%BD%E5%90%9B%E7%A0%94%E7%A9%B6%E6%89%80/%E5%B7%A5%E4%BD%9C/FOF_portfolio/examples/simple_equal_weight.ipynb#X13sZmlsZQ%3D%3D?line=14'>15</a>\u001b[0m my_backtest_manager\u001b[39m.\u001b[39;49mbacktest()\n",
      "File \u001b[1;32mc:\\Users\\Dell\\Documents\\SynologyDrive\\实习\\国君研究所\\工作\\FOF_portfolio\\examples\\../framework\\backtest_manager\\backtest_manager.py:151\u001b[0m, in \u001b[0;36mBackTestManager.backtest\u001b[1;34m(self)\u001b[0m\n\u001b[0;32m    149\u001b[0m logging\u001b[39m.\u001b[39mdebug(\u001b[39m'\u001b[39m\u001b[39m{}\u001b[39;00m\u001b[39m, convert orders\u001b[39m\u001b[39m'\u001b[39m\u001b[39m.\u001b[39mformat(\u001b[39mself\u001b[39m\u001b[39m.\u001b[39m_id_date))\n\u001b[0;32m    150\u001b[0m \u001b[39mself\u001b[39m\u001b[39m.\u001b[39m_weights2Orders()\n\u001b[1;32m--> 151\u001b[0m \u001b[39mself\u001b[39;49m\u001b[39m.\u001b[39;49m_addOrdersForDelistedAssets()\n\u001b[0;32m    152\u001b[0m \u001b[39mself\u001b[39m\u001b[39m.\u001b[39m_mergeOrders()\n\u001b[0;32m    154\u001b[0m \u001b[39m# 4. execute orders\u001b[39;00m\n",
      "File \u001b[1;32mc:\\Users\\Dell\\Documents\\SynologyDrive\\实习\\国君研究所\\工作\\FOF_portfolio\\examples\\../framework\\backtest_manager\\backtest_manager.py:95\u001b[0m, in \u001b[0;36mBackTestManager._addOrdersForDelistedAssets\u001b[1;34m(self)\u001b[0m\n\u001b[0;32m     93\u001b[0m \u001b[39mdef\u001b[39;00m \u001b[39m_addOrdersForDelistedAssets\u001b[39m(\u001b[39mself\u001b[39m):\n\u001b[0;32m     94\u001b[0m     \u001b[39m# if delisted, then clear all\u001b[39;00m\n\u001b[1;32m---> 95\u001b[0m     delisted_assets \u001b[39m=\u001b[39m {asset: asset_obj \u001b[39mfor\u001b[39;00m asset, asset_obj \u001b[39min\u001b[39;00m \u001b[39mself\u001b[39;49m\u001b[39m.\u001b[39;49mgetDataset()\u001b[39m.\u001b[39;49mgetAllAssets() \u001b[39mif\u001b[39;00m asset_obj\u001b[39m.\u001b[39misDelisted(\u001b[39mself\u001b[39m\u001b[39m.\u001b[39m_id_date) \u001b[39mand\u001b[39;00m asset_obj\u001b[39m.\u001b[39mgetPositionManager()\u001b[39m.\u001b[39mposition}\n\u001b[0;32m     97\u001b[0m     \u001b[39mfor\u001b[39;00m asset \u001b[39min\u001b[39;00m delisted_assets:\n\u001b[0;32m     98\u001b[0m         new_order \u001b[39m=\u001b[39m Order(\n\u001b[0;32m     99\u001b[0m             date \u001b[39m=\u001b[39m \u001b[39mself\u001b[39m\u001b[39m.\u001b[39m_id_date, \n\u001b[0;32m    100\u001b[0m             asset \u001b[39m=\u001b[39m asset, \n\u001b[0;32m    101\u001b[0m             clear_all \u001b[39m=\u001b[39m \u001b[39m1\u001b[39m \n\u001b[0;32m    102\u001b[0m             )\n",
      "\u001b[1;31mAttributeError\u001b[0m: 'Group' object has no attribute 'getAllAssets'"
     ]
    }
   ],
   "source": [
    "from backtest_manager.backtest_manager import BackTestManager\n",
    "\n",
    "args = {\n",
    "    'date_range': [[2010, 1, 1], [2010, 12, 31]], \n",
    "    'frequency': 'monthly', \n",
    "    'cash': 1e4, \n",
    "    }\n",
    "\n",
    "my_backtest_manager = BackTestManager(\n",
    "    MyStrategy('test'), # 策略实例\n",
    "    name = ('equal_weight_backtest'), \n",
    "    args = args, \n",
    ")\n",
    "\n",
    "my_backtest_manager.backtest()"
   ]
  }
 ],
 "metadata": {
  "kernelspec": {
   "display_name": "Python 3.8.13 ('py38')",
   "language": "python",
   "name": "python3"
  },
  "language_info": {
   "codemirror_mode": {
    "name": "ipython",
    "version": 3
   },
   "file_extension": ".py",
   "mimetype": "text/x-python",
   "name": "python",
   "nbconvert_exporter": "python",
   "pygments_lexer": "ipython3",
   "version": "3.8.13"
  },
  "orig_nbformat": 4,
  "vscode": {
   "interpreter": {
    "hash": "2792964f3dcf50b23a92b033166e06ea17b539f17d690189f59366d68e27ccdb"
   }
  }
 },
 "nbformat": 4,
 "nbformat_minor": 2
}
