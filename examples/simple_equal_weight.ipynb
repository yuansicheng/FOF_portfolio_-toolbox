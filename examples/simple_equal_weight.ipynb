{
 "cells": [
  {
   "cell_type": "markdown",
   "metadata": {},
   "source": [
    "# 简单等权策略"
   ]
  },
  {
   "cell_type": "code",
   "execution_count": 1,
   "metadata": {},
   "outputs": [],
   "source": [
    "import os, sys, argparse, logging\n",
    "import pandas as pd\n",
    "\n",
    "# 首先将framework的目录加进sys.path中，方便使用相对路径导入\n",
    "framework_path = os.path.join(os.path.abspath(''), '../framework')\n",
    "if framework_path not in sys.path:\n",
    "    sys.path.append(framework_path)"
   ]
  },
  {
   "cell_type": "code",
   "execution_count": 2,
   "metadata": {},
   "outputs": [],
   "source": [
    "# 设置logging格式和级别\n",
    "logging.basicConfig(\n",
    "    level=logging.INFO,\n",
    "    format='%(filename)s-line%(lineno)d %(levelname)s: %(message)s'\n",
    "    )"
   ]
  },
  {
   "cell_type": "markdown",
   "metadata": {},
   "source": [
    "## 1. 等权算法"
   ]
  },
  {
   "cell_type": "code",
   "execution_count": 3,
   "metadata": {},
   "outputs": [],
   "source": [
    "from alg.alg_base import AlgBase\n",
    "\n",
    "# 等权算法，传入资产字典和总权重\n",
    "class EqualWeightAlg(AlgBase):\n",
    "    def __init__(self, name) -> None:\n",
    "        super().__init__(name)\n",
    "\n",
    "    def run(self, asset_dict, weight_sum, option=1):\n",
    "        logging.debug('EqualWeightAlg: run')\n",
    "        return {asset: option*weight_sum/len(asset_dict) for asset in asset_dict}\n"
   ]
  },
  {
   "cell_type": "code",
   "execution_count": 4,
   "metadata": {},
   "outputs": [
    {
     "name": "stderr",
     "output_type": "stream",
     "text": [
      "alg_base.py-line19 INFO: alg equal_weight: init args\n"
     ]
    },
    {
     "name": "stdout",
     "output_type": "stream",
     "text": [
      "init YamlSvc\n",
      "init DateSvc\n",
      "{0: 0.19999999999999998, 1: 0.19999999999999998, 2: 0.19999999999999998}\n"
     ]
    }
   ],
   "source": [
    "# 测试算法\n",
    "\n",
    "# 创建一个dummy的数据集\n",
    "from component.asset.asset import Asset\n",
    "dummy_dict = {i: Asset(str(i)) for i in range(3)}\n",
    "\n",
    "ewa = EqualWeightAlg('equal_weight')\n",
    "print(ewa.run(dummy_dict, 0.6))"
   ]
  },
  {
   "cell_type": "markdown",
   "metadata": {},
   "source": [
    "## 2. 创建单期策略"
   ]
  },
  {
   "cell_type": "code",
   "execution_count": 5,
   "metadata": {},
   "outputs": [
    {
     "name": "stdout",
     "output_type": "stream",
     "text": [
      "init YamlSvc\n",
      "init LxwWinddbRawDataSvc\n",
      "init MysqlDbConnectorSvc\n"
     ]
    },
    {
     "name": "stderr",
     "output_type": "stream",
     "text": [
      "date_svc.py-line31 INFO: DateSvc: set trade days\n"
     ]
    },
    {
     "name": "stdout",
     "output_type": "stream",
     "text": [
      "init ConstantSvc\n"
     ]
    }
   ],
   "source": [
    "from import_func import getSvc\n",
    "raw_data_svc = getSvc('LxwWinddbRawDataSvc')\n",
    "date_svc = getSvc('DateSvc')\n",
    "date_svc.setTradeDays(raw_data_svc.getTradeDays())\n",
    "\n",
    "from strategy.strategy_base import StrategyBase\n",
    "\n",
    "from component.position_manager.group_position_manager import GroupPositionManager\n",
    "from component.position_manager.asset_position_manager import AssetPositionManager\n",
    "\n",
    "class MyStrategy(StrategyBase):\n",
    "    def __init__(self, name, args={}) -> None:\n",
    "        # self.equal_weight_option = 1\n",
    "        super().__init__(name, args)\n",
    "\n",
    "    # 设置需要使用的算法\n",
    "    def _initAlgDict(self):\n",
    "        self._alg_dict['equal_weight'] = EqualWeightAlg('equal_weight')\n",
    "\n",
    "    # 设置数据集\n",
    "    def _initDataset(self):\n",
    "        # 父类方法初始化数据集并添加cash资产\n",
    "        super()._initDataset(init_position_manager=True)\n",
    "\n",
    "        a_000001 = Asset('000001.SH')\n",
    "        a_000001.setRawNavData(raw_data_svc.getNav('aindexeodprices', '000001.SH'))\n",
    "\n",
    "        a_000003 = Asset('000003.SH')\n",
    "        a_000003.setRawNavData(raw_data_svc.getNav('aindexeodprices', '000003.SH'))\n",
    "\n",
    "        self.getDataset().addChildAsset(a_000001)\n",
    "        self.getDataset().addChildAsset(a_000003)\n",
    "\n",
    "        # 如果进行回测，需要为每个资产初始化一个仓位管理器\n",
    "        a_000001.setPositionManager(AssetPositionManager())\n",
    "        a_000003.setPositionManager(AssetPositionManager())\n",
    "\n",
    "        a_000001.setTransectionRate(2e-4)\n",
    "        a_000003.setTransectionRate(2e-4)\n",
    "\n",
    "        a_000001.setMarginRatio(0.1)\n",
    "        a_000003.setMarginRatio(0.1)\n",
    "        \n",
    "\n",
    "    def run(self, id_date):\n",
    "        logging.debug('{}: MyStrategy: run'.format(id_date))\n",
    "        # 设置数据集的id_date\n",
    "        self.setIdDate(id_date, 252)\n",
    "\n",
    "        # 构造算法要求的输入并执行算法\n",
    "        alg_input = self.getDataset().getAllAsset(ignore_cash=True, id_date=id_date)\n",
    "        return self._alg_dict['equal_weight'].run(alg_input, 0.5, option=self.equal_weight_option), []\n"
   ]
  },
  {
   "cell_type": "code",
   "execution_count": 6,
   "metadata": {},
   "outputs": [
    {
     "name": "stderr",
     "output_type": "stream",
     "text": [
      "alg_base.py-line19 INFO: alg test: init args\n",
      "alg_base.py-line19 INFO: alg equal_weight: init args\n",
      "strategy_base.py-line49 INFO: strategy test: init dataset\n"
     ]
    },
    {
     "name": "stdout",
     "output_type": "stream",
     "text": [
      "group: root\n",
      "\tasset: cash\n",
      "\tasset: 000001.SH\n",
      "\tasset: 000003.SH\n",
      "({'000001.SH': -0.25, '000003.SH': -0.25}, [])\n"
     ]
    }
   ],
   "source": [
    "from datetime import datetime\n",
    "\n",
    "# 测试单期策略\n",
    "my_strategy = MyStrategy('test', args={'equal_weight_option': -1})\n",
    "\n",
    "my_strategy._dataset.print()\n",
    "print(my_strategy.run(datetime(2020, 1, 5)))"
   ]
  },
  {
   "cell_type": "markdown",
   "metadata": {},
   "source": [
    "# 3. 执行回测"
   ]
  },
  {
   "cell_type": "code",
   "execution_count": 7,
   "metadata": {},
   "outputs": [
    {
     "name": "stderr",
     "output_type": "stream",
     "text": [
      "alg_base.py-line19 INFO: alg test: init args\n",
      "alg_base.py-line19 INFO: alg equal_weight: init args\n",
      "strategy_base.py-line49 INFO: strategy test: init dataset\n",
      "backtest_manager.py-line26 INFO: init BackTestManager\n",
      "backtest_manager.py-line61 INFO: setting date index\n",
      "backtest_manager.py-line68 INFO: setting init cash\n",
      "strategy_base.py-line64 INFO: test: init cash\n",
      "backtest: 100%|██████████| 242/242 [00:04<00:00, 59.17days/s]\n"
     ]
    }
   ],
   "source": [
    "from backtest_manager.backtest_manager import BackTestManager\n",
    "\n",
    "backtest_args = {\n",
    "    'date_range': [[2010, 1, 1], [2010, 12, 31]], \n",
    "    'frequency': 'monthly', \n",
    "    'cash': 1e4, \n",
    "    }\n",
    "\n",
    "strategy_args = {\n",
    "    'equal_weight_option': 1\n",
    "}\n",
    "\n",
    "my_backtest_manager = BackTestManager(\n",
    "    MyStrategy('test', args=strategy_args), # 策略实例\n",
    "    name = 'equal_weight_backtest', \n",
    "    args = backtest_args, \n",
    ")\n",
    "\n",
    "my_backtest_manager.backtest()"
   ]
  },
  {
   "cell_type": "code",
   "execution_count": 8,
   "metadata": {},
   "outputs": [
    {
     "name": "stdout",
     "output_type": "stream",
     "text": [
      "**************************************************\n",
      "strategy: \n",
      "                position  truth_position  cost_per_unit  weight  truth_weight  \\\n",
      "2010-01-04  14499.856652    10000.490830            0.0     1.0           1.0   \n",
      "2010-01-05  14563.458032    10064.092209            0.0     1.0           1.0   \n",
      "2010-01-06  14535.150638    10035.784816            0.0     1.0           1.0   \n",
      "2010-01-07  14450.003370     9950.637548            0.0     1.0           1.0   \n",
      "2010-01-08  14482.375063     9983.009240            0.0     1.0           1.0   \n",
      "...                  ...             ...            ...     ...           ...   \n",
      "2010-12-27  18685.989191    10765.028532            0.0     1.0           1.0   \n",
      "2010-12-28  18551.631223    10630.670564            0.0     1.0           1.0   \n",
      "2010-12-29  18613.574654    10692.613995            0.0     1.0           1.0   \n",
      "2010-12-30  18646.214758    10725.254099            0.0     1.0           1.0   \n",
      "2010-12-31  18824.299969    10903.339310            0.0     1.0           1.0   \n",
      "\n",
      "                margin    investment  holding_return  holding_yield  \\\n",
      "2010-01-04  499.929536  10000.029542        0.561294       0.001123   \n",
      "2010-01-05  499.929536  10000.029542       64.162673       0.128343   \n",
      "2010-01-06  499.929536  10000.029542       35.855280       0.071721   \n",
      "2010-01-07  499.929536  10000.029542      -49.291988      -0.098598   \n",
      "2010-01-08  499.929536  10000.029542      -16.920296      -0.033845   \n",
      "...                ...           ...             ...            ...   \n",
      "2010-12-27  880.106740  10107.550716      657.653872       0.747243   \n",
      "2010-12-28  880.106740  10107.550716      523.295904       0.594582   \n",
      "2010-12-29  880.106740  10107.550716      585.239335       0.664964   \n",
      "2010-12-30  880.106740  10107.550716      617.879440       0.702051   \n",
      "2010-12-31  880.106740  10107.550716      795.964651       0.904396   \n",
      "\n",
      "            historical_return  total_return  transection_cost       nav  \\\n",
      "2010-01-04           0.028794      0.590087          0.100006  1.000000   \n",
      "2010-01-05           0.028794     64.191467          0.100006  1.006360   \n",
      "2010-01-06           0.028794     35.884073          0.100006  1.003529   \n",
      "2010-01-07           0.028794    -49.263195          0.100006  0.995015   \n",
      "2010-01-08           0.028794    -16.891502          0.100006  0.998252   \n",
      "...                       ...           ...               ...       ...   \n",
      "2010-12-27         117.037190    774.691062          0.588349  1.077441   \n",
      "2010-12-28         117.037190    640.333094          0.588349  1.063994   \n",
      "2010-12-29         117.037190    702.276526          0.588349  1.070193   \n",
      "2010-12-30         117.037190    734.916630          0.588349  1.073460   \n",
      "2010-12-31         117.037190    913.001841          0.588349  1.091284   \n",
      "\n",
      "                  shares  \n",
      "2010-01-04  10000.590835  \n",
      "2010-01-05  10000.590835  \n",
      "2010-01-06  10000.590835  \n",
      "2010-01-07  10000.590835  \n",
      "2010-01-08  10000.590835  \n",
      "...                  ...  \n",
      "2010-12-27  10000.590835  \n",
      "2010-12-28  10000.590835  \n",
      "2010-12-29  10000.590835  \n",
      "2010-12-30  10000.590835  \n",
      "2010-12-31  10000.590835  \n",
      "\n",
      "[242 rows x 14 columns]\n",
      "**************************************************\n",
      "cash: \n",
      "        position  truth_position  cost_per_unit    weight  truth_weight  \\\n",
      "0    9500.561294     9500.561294            0.0  0.655218      0.950010   \n",
      "1    9501.122620     9501.122620            0.0  0.652395      0.944062   \n",
      "2    9501.683980     9501.683980            0.0  0.653704      0.946780   \n",
      "3    9502.245374     9502.245374            0.0  0.657595      0.954938   \n",
      "4    9502.806800     9502.806800            0.0  0.656164      0.951898   \n",
      "..           ...             ...            ...       ...           ...   \n",
      "237  9354.696159     9354.696159            0.0  0.500626      0.868989   \n",
      "238  9355.248868     9355.248868            0.0  0.504282      0.880024   \n",
      "239  9355.801609     9355.801609            0.0  0.502633      0.874978   \n",
      "240  9356.354383     9356.354383            0.0  0.501783      0.872367   \n",
      "241  9356.907189     9356.907189            0.0  0.497065      0.858169   \n",
      "\n",
      "     margin  investment  holding_return  holding_yield  historical_return  \\\n",
      "0       0.0  9500.00000        0.561294       0.000059           0.028794   \n",
      "1       0.0  9500.00000        1.122620       0.000118           0.028794   \n",
      "2       0.0  9500.00000        1.683980       0.000177           0.028794   \n",
      "3       0.0  9500.00000        2.245374       0.000236           0.028794   \n",
      "4       0.0  9500.00000        2.806800       0.000295           0.028794   \n",
      "..      ...         ...             ...            ...                ...   \n",
      "237     0.0  9227.26792      127.428239       0.013810           1.861528   \n",
      "238     0.0  9227.26792      127.980948       0.013870           1.861528   \n",
      "239     0.0  9227.26792      128.533689       0.013930           1.861528   \n",
      "240     0.0  9227.26792      129.086463       0.013990           1.861528   \n",
      "241     0.0  9227.26792      129.639270       0.014050           1.861528   \n",
      "\n",
      "     total_return  transection_cost  nav  shares  margin_ratio  status  \n",
      "0        0.590087               0.0  0.0     0.0           1.0     0.0  \n",
      "1        1.151414               0.0  0.0     0.0           1.0     0.0  \n",
      "2        1.712774               0.0  0.0     0.0           1.0     0.0  \n",
      "3        2.274167               0.0  0.0     0.0           1.0     0.0  \n",
      "4        2.835594               0.0  0.0     0.0           1.0     0.0  \n",
      "..            ...               ...  ...     ...           ...     ...  \n",
      "237    129.289767               0.0  0.0     0.0           1.0     0.0  \n",
      "238    129.842476               0.0  0.0     0.0           1.0     0.0  \n",
      "239    130.395217               0.0  0.0     0.0           1.0     0.0  \n",
      "240    130.947991               0.0  0.0     0.0           1.0     0.0  \n",
      "241    131.500798               0.0  0.0     0.0           1.0     0.0  \n",
      "\n",
      "[242 rows x 16 columns]\n",
      "**************************************************\n",
      "000001.SH: \n",
      "               position  truth_position  cost_per_unit    weight  \\\n",
      "2010-01-04  2499.647679      249.964768    3243.760000  0.172391   \n",
      "2010-01-05  2529.253434      279.570523    3243.760000  0.173671   \n",
      "2010-01-06  2507.704322      258.021411    3243.760000  0.172527   \n",
      "2010-01-07  2460.359311      210.676400    3243.760000  0.170267   \n",
      "2010-01-08  2462.841420      213.158508    3243.760000  0.170058   \n",
      "...                 ...             ...            ...       ...   \n",
      "2010-12-27  4617.798594      137.342960    2998.530338  0.247126   \n",
      "2010-12-28  4537.422990       56.967356    2998.530338  0.244584   \n",
      "2010-12-29  4568.198883       87.743250    2998.530338  0.245423   \n",
      "2010-12-30  4581.560506      101.104872    2998.530338  0.245710   \n",
      "2010-12-31  4662.085531      181.629898    2998.530338  0.247663   \n",
      "\n",
      "            truth_weight      margin  investment  holding_return  \\\n",
      "2010-01-04      0.024995  249.964768  250.014771        0.000000   \n",
      "2010-01-05      0.027779  249.964768  250.014771       29.605755   \n",
      "2010-01-06      0.025710  249.964768  250.014771        8.056643   \n",
      "2010-01-07      0.021172  249.964768  250.014771      -39.288368   \n",
      "2010-01-08      0.021352  249.964768  250.014771      -36.806259   \n",
      "...                  ...         ...         ...             ...   \n",
      "2010-12-27      0.012758  497.828404  497.927989     -360.485444   \n",
      "2010-12-28      0.005359  497.828404  497.927989     -440.861048   \n",
      "2010-12-29      0.008206  497.828404  497.927989     -410.085154   \n",
      "2010-12-30      0.009427  497.828404  497.927989     -396.723532   \n",
      "2010-12-31      0.016658  497.828404  497.927989     -316.198506   \n",
      "\n",
      "            holding_yield  historical_return  total_return  transection_cost  \\\n",
      "2010-01-04       0.000000           0.000000      0.000000          0.050003   \n",
      "2010-01-05       0.118416           0.000000     29.605755          0.050003   \n",
      "2010-01-06       0.032225           0.000000      8.056643          0.050003   \n",
      "2010-01-07      -0.157144           0.000000    -39.288368          0.050003   \n",
      "2010-01-08      -0.147216           0.000000    -36.806259          0.050003   \n",
      "...                   ...                ...           ...               ...   \n",
      "2010-12-27      -0.723971         -20.886505   -381.371949          0.228501   \n",
      "2010-12-28      -0.885391         -20.886505   -461.747553          0.228501   \n",
      "2010-12-29      -0.823583         -20.886505   -430.971659          0.228501   \n",
      "2010-12-30      -0.796749         -20.886505   -417.610037          0.228501   \n",
      "2010-12-31      -0.635029         -20.886505   -337.085011          0.228501   \n",
      "\n",
      "                 nav    shares  margin_ratio  status  \n",
      "2010-01-04  3243.760  0.770602           0.1     1.0  \n",
      "2010-01-05  3282.179  0.770602           0.1     1.0  \n",
      "2010-01-06  3254.215  0.770602           0.1     1.0  \n",
      "2010-01-07  3192.776  0.770602           0.1     1.0  \n",
      "2010-01-08  3195.997  0.770602           0.1     1.0  \n",
      "...              ...       ...           ...     ...  \n",
      "2010-12-27  2781.402  1.660241           0.1     1.0  \n",
      "2010-12-28  2732.990  1.660241           0.1     1.0  \n",
      "2010-12-29  2751.527  1.660241           0.1     1.0  \n",
      "2010-12-30  2759.575  1.660241           0.1     1.0  \n",
      "2010-12-31  2808.077  1.660241           0.1     1.0  \n",
      "\n",
      "[242 rows x 16 columns]\n",
      "**************************************************\n",
      "orders: \n",
      "         date      asset option   buy_money direction sell_proportion  \\\n",
      "0  2010-01-04  000001.SH    buy  250.014771       1.0             NaN   \n",
      "1  2010-01-04  000003.SH    buy  250.014771       1.0             NaN   \n",
      "2  2010-02-01  000001.SH    buy  126.716932      None             NaN   \n",
      "3  2010-02-01  000003.SH    buy  117.705084      None             NaN   \n",
      "4  2010-03-01  000001.SH    buy   48.266474      None             NaN   \n",
      "5  2010-03-01  000003.SH    buy   40.858202      None             NaN   \n",
      "6  2010-04-01  000001.SH    buy   18.017632      None             NaN   \n",
      "7  2010-04-01  000003.SH    buy   11.252191      None             NaN   \n",
      "8  2010-05-04  000001.SH    buy   32.137795      None             NaN   \n",
      "9  2010-05-04  000003.SH    buy   19.400471      None             NaN   \n",
      "10 2010-06-01  000001.SH    buy   24.822048      None             NaN   \n",
      "11 2010-06-01  000003.SH    buy   54.612902      None             NaN   \n",
      "12 2010-07-01  000001.SH    buy   43.583399      None             NaN   \n",
      "13 2010-07-01  000003.SH    buy    4.970571      None             NaN   \n",
      "14 2010-08-02  000001.SH   sell         NaN      None        0.025981   \n",
      "15 2010-08-02  000003.SH   sell         NaN      None        0.051352   \n",
      "16 2010-09-01  000001.SH    buy    2.197828      None            None   \n",
      "17 2010-09-01  000003.SH   sell         NaN      None        0.048895   \n",
      "18 2010-10-08  000001.SH   sell         NaN      None        0.023429   \n",
      "19 2010-10-08  000003.SH   sell         NaN      None        0.049936   \n",
      "20 2010-11-01  000001.SH   sell         NaN      None        0.065353   \n",
      "21 2010-11-01  000003.SH   sell         NaN      None        0.068376   \n",
      "22 2010-12-01  000001.SH    buy   12.679009      None            None   \n",
      "23 2010-12-01  000003.SH   sell         NaN      None        0.040157   \n",
      "\n",
      "    executed  delta_cash  transection_cost  shares_before  shares_after  \n",
      "0          1 -250.014771          0.050003       0.000000      0.770602  \n",
      "1          1 -250.014771          0.050003       0.000000      9.918214  \n",
      "2          1 -126.716932          0.025343       0.770602      1.201326  \n",
      "3          1 -117.705084          0.023541       9.918214     14.870786  \n",
      "4          1  -48.266474          0.009653       1.201326      1.357607  \n",
      "5          1  -40.858202          0.008172      14.870786     16.476331  \n",
      "6          1  -18.017632          0.003604       1.357607      1.414841  \n",
      "7          1  -11.252191          0.002250      16.476331     16.903362  \n",
      "8          1  -32.137795          0.006428       1.414841      1.528168  \n",
      "9          1  -19.400471          0.003880      16.903362     17.695535  \n",
      "10         1  -24.822048          0.004964       1.528168      1.624797  \n",
      "11         1  -54.612902          0.010923      17.695535     20.359579  \n",
      "12         1  -43.583399          0.008717       1.624797      1.808363  \n",
      "13         1   -4.970571          0.000994      20.359579     20.598036  \n",
      "14         1   -1.903408          0.025113       1.808363      1.761379  \n",
      "15         1   22.959236          0.050963      20.598036     19.540288  \n",
      "16         1   -2.197828          0.000440       1.761379      1.769757  \n",
      "17         1   29.261185          0.047726      19.540288     18.584868  \n",
      "18         1    1.165242          0.022712       1.769757      1.728293  \n",
      "19         1   45.387593          0.049757      18.584868     17.656822  \n",
      "20         1   37.355064          0.068990       1.728293      1.615344  \n",
      "21         1   96.926289          0.072415      17.656822     16.449526  \n",
      "22         1  -12.679009          0.002536       1.615344      1.660241  \n",
      "23         1   51.494748          0.039223      16.449526     15.788961  \n"
     ]
    }
   ],
   "source": [
    "# 检查回测结果\n",
    "\n",
    "# 策略历史仓位\n",
    "print('*' * 50)\n",
    "print('strategy: ')\n",
    "print(my_backtest_manager.getDataset().getPositionManager().getHistoricalData())\n",
    "\n",
    "# 现金历史仓位\n",
    "print('*' * 50)\n",
    "print('cash: ')\n",
    "print(my_backtest_manager.getDataset().getAsset('cash').getPositionManager().getHistoricalData())\n",
    "\n",
    "# 000001.SH历史仓位\n",
    "print('*' * 50)\n",
    "print('000001.SH: ')\n",
    "print(my_backtest_manager.getDataset().getAsset('000001.SH').getPositionManager().getHistoricalData())\n",
    "\n",
    "# # 历史订单\n",
    "print('*' * 50)\n",
    "print('orders: ')\n",
    "print(my_backtest_manager.getOrderManager().getAllOrders())"
   ]
  }
 ],
 "metadata": {
  "interpreter": {
   "hash": "2a2a19ddea09eb63f5fb3396b4df9fda5b0a8f8a0e122eead7773c9f07ca9ee4"
  },
  "kernelspec": {
   "display_name": "Python 3.8.13 ('py38')",
   "language": "python",
   "name": "python3"
  },
  "language_info": {
   "codemirror_mode": {
    "name": "ipython",
    "version": 3
   },
   "file_extension": ".py",
   "mimetype": "text/x-python",
   "name": "python",
   "nbconvert_exporter": "python",
   "pygments_lexer": "ipython3",
   "version": "3.8.13"
  },
  "orig_nbformat": 4,
  "vscode": {
   "interpreter": {
    "hash": "2792964f3dcf50b23a92b033166e06ea17b539f17d690189f59366d68e27ccdb"
   }
  }
 },
 "nbformat": 4,
 "nbformat_minor": 2
}
