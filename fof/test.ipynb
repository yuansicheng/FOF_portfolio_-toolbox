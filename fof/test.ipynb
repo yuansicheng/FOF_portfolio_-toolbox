{
 "cells": [
  {
   "cell_type": "markdown",
   "metadata": {},
   "source": [
    "# FOF策略"
   ]
  },
  {
   "cell_type": "code",
   "execution_count": 1,
   "metadata": {},
   "outputs": [
    {
     "name": "stdout",
     "output_type": "stream",
     "text": [
      "init YamlSvc\n",
      "init YamlSvc\n"
     ]
    },
    {
     "name": "stderr",
     "output_type": "stream",
     "text": [
      "utils.py-line160 INFO: NumExpr defaulting to 8 threads.\n",
      "lxw_winddb_sql_raw_data_svc.py-line69 DEBUG: raw_data_svc.sqlQuery: SELECT TRADE_DAYS FROM asharecalendar WHERE S_INFO_EXCHMARKET='SSE' ORDER BY TRADE_DAYS\n"
     ]
    },
    {
     "name": "stdout",
     "output_type": "stream",
     "text": [
      "init LxwWinddbRawDataSvc\n",
      "init MysqlDbConnectorSvc\n",
      "init DateSvc\n"
     ]
    },
    {
     "name": "stderr",
     "output_type": "stream",
     "text": [
      "date_svc.py-line31 INFO: DateSvc: set trade days\n"
     ]
    },
    {
     "name": "stdout",
     "output_type": "stream",
     "text": [
      "init ConstantSvc\n"
     ]
    }
   ],
   "source": [
    "import os, sys, argparse, logging\n",
    "\n",
    "# 设置logging格式和级别\n",
    "logging.basicConfig(\n",
    "    level=logging.DEBUG,\n",
    "    format='%(filename)s-line%(lineno)d %(levelname)s: %(message)s'\n",
    "    )\n",
    "\n",
    "from datetime import datetime\n",
    "\n",
    "# 首先将framework的目录加进sys.path中，方便使用相对路径导入\n",
    "framework_path = os.path.join(os.path.abspath(''), '../framework')\n",
    "if framework_path not in sys.path:\n",
    "    sys.path.append(framework_path)\n",
    "\n",
    "this_path = os.path.abspath('')\n",
    "if this_path not in sys.path:\n",
    "    sys.path.append(this_path)\n",
    "\n",
    "from import_func import getSvc\n",
    "\n",
    "raw_data_svc = getSvc('LxwWinddbRawDataSvc')\n",
    "date_svc = getSvc('DateSvc')\n",
    "date_svc.setTradeDays(raw_data_svc.getTradeDays())\n",
    "constant_svc = getSvc('ConstantSvc')\n"
   ]
  },
  {
   "cell_type": "markdown",
   "metadata": {},
   "source": [
    "## 1. 测试单期fof策略"
   ]
  },
  {
   "cell_type": "code",
   "execution_count": 2,
   "metadata": {},
   "outputs": [],
   "source": [
    "# 债券基金筛选条件\n",
    "bond_filter_condition = {\n",
    "    'fund_age':3*12,                # 基金年龄 >= n 个月  \n",
    "    'fund_del': -1e-8, # 基金停牌时间 < 0\n",
    "    'netasset_total':4e8,    # 基金规模 >= n 元\n",
    "    'f_prt_stocktotot': -30            # 过去4个季度，股票平均仓位 <= 30\n",
    "}\n",
    "\n",
    "# 股票基金筛选条件\n",
    "stock_filter_condition = {\n",
    "    'fund_age':3*12,                # 基金年龄 >= n 个月  \n",
    "    'fund_del': -1e-8, # 基金停牌时间 < 0\n",
    "    'netasset_total':2e8,    # 基金规模 >= n 元\n",
    "    'f_prt_stocktotot': 60,           # 过去4个季度，股票平均仓位 >= 60\n",
    "    'is_indexfund': -0.5   # 不是指数基金\n",
    "}\n",
    "\n",
    "filter_conditions = {\n",
    "    'bond_conditions': bond_filter_condition, \n",
    "    'stock_conditions': stock_filter_condition,\n",
    "}"
   ]
  },
  {
   "cell_type": "code",
   "execution_count": 3,
   "metadata": {},
   "outputs": [
    {
     "name": "stderr",
     "output_type": "stream",
     "text": [
      "lxw_winddb_sql_raw_data_svc.py-line69 DEBUG: raw_data_svc.sqlQuery: SELECT TRADE_DAYS FROM asharecalendar WHERE S_INFO_EXCHMARKET='SSE' ORDER BY TRADE_DAYS\n",
      "date_svc.py-line31 INFO: DateSvc: set trade days\n",
      "alg_base.py-line19 INFO: alg tfs: init args\n",
      "alg_base.py-line19 INFO: alg merge_fund_raw_data: init args\n",
      "merge_fund_raw_data.py-line34 INFO: loading raw data\n",
      "merge_fund_raw_data.py-line41 DEBUG: loading chinamutualfunddescription\n",
      "lxw_winddb_local_raw_data_svc.py-line51 DEBUG: loading chinamutualfunddescription from local_db\n",
      "merge_fund_raw_data.py-line41 DEBUG: loading chinamutualfundassetportfolio\n",
      "lxw_winddb_local_raw_data_svc.py-line51 DEBUG: loading chinamutualfundassetportfolio from local_db\n",
      "merge_fund_raw_data.py-line41 DEBUG: loading chinamutualfundnav\n",
      "lxw_winddb_local_raw_data_svc.py-line51 DEBUG: loading chinamutualfundnav from local_db\n",
      "merge_fund_raw_data.py-line41 DEBUG: loading chinamutualfundsector\n",
      "lxw_winddb_local_raw_data_svc.py-line51 DEBUG: loading chinamutualfundsector from local_db\n",
      "alg_base.py-line19 INFO: alg select_fund_type: init args\n",
      "alg_base.py-line19 INFO: alg select_fund_condition: init args\n",
      "alg_base.py-line19 INFO: alg fund_style_identification: init args\n",
      "alg_base.py-line19 INFO: alg : init args\n",
      "alg_base.py-line19 INFO: alg : init args\n",
      "strategy_base.py-line49 INFO: strategy tfs: init dataset\n",
      "alg_base.py-line19 INFO: alg select_fund_condition: init args\n"
     ]
    },
    {
     "name": "stdout",
     "output_type": "stream",
     "text": [
      "group: root\n",
      "\tasset: cash\n",
      "\tgroup: bond\n",
      "\tgroup: stock\n"
     ]
    },
    {
     "name": "stderr",
     "output_type": "stream",
     "text": [
      "date_svc.py-line51 DEBUG: DateSvc.cutDataWithIndex: some index not found in data.index\n",
      "date_svc.py-line51 DEBUG: DateSvc.cutDataWithIndex: some index not found in data.index\n",
      "date_svc.py-line51 DEBUG: DateSvc.cutDataWithIndex: some index not found in data.index\n",
      "date_svc.py-line51 DEBUG: DateSvc.cutDataWithIndex: some index not found in data.index\n",
      "date_svc.py-line51 DEBUG: DateSvc.cutDataWithIndex: some index not found in data.index\n",
      "date_svc.py-line51 DEBUG: DateSvc.cutDataWithIndex: some index not found in data.index\n",
      "date_svc.py-line51 DEBUG: DateSvc.cutDataWithIndex: some index not found in data.index\n",
      "date_svc.py-line51 DEBUG: DateSvc.cutDataWithIndex: some index not found in data.index\n",
      "date_svc.py-line51 DEBUG: DateSvc.cutDataWithIndex: some index not found in data.index\n",
      "date_svc.py-line51 DEBUG: DateSvc.cutDataWithIndex: some index not found in data.index\n",
      "date_svc.py-line51 DEBUG: DateSvc.cutDataWithIndex: some index not found in data.index\n",
      "date_svc.py-line51 DEBUG: DateSvc.cutDataWithIndex: some index not found in data.index\n",
      "date_svc.py-line51 DEBUG: DateSvc.cutDataWithIndex: some index not found in data.index\n",
      "date_svc.py-line51 DEBUG: DateSvc.cutDataWithIndex: some index not found in data.index\n",
      "date_svc.py-line51 DEBUG: DateSvc.cutDataWithIndex: some index not found in data.index\n",
      "date_svc.py-line51 DEBUG: DateSvc.cutDataWithIndex: some index not found in data.index\n",
      "date_svc.py-line51 DEBUG: DateSvc.cutDataWithIndex: some index not found in data.index\n",
      "date_svc.py-line51 DEBUG: DateSvc.cutDataWithIndex: some index not found in data.index\n",
      "date_svc.py-line51 DEBUG: DateSvc.cutDataWithIndex: some index not found in data.index\n",
      "date_svc.py-line51 DEBUG: DateSvc.cutDataWithIndex: some index not found in data.index\n",
      "date_svc.py-line51 DEBUG: DateSvc.cutDataWithIndex: some index not found in data.index\n",
      "date_svc.py-line51 DEBUG: DateSvc.cutDataWithIndex: some index not found in data.index\n",
      "date_svc.py-line51 DEBUG: DateSvc.cutDataWithIndex: some index not found in data.index\n",
      "date_svc.py-line51 DEBUG: DateSvc.cutDataWithIndex: some index not found in data.index\n",
      "date_svc.py-line51 DEBUG: DateSvc.cutDataWithIndex: some index not found in data.index\n",
      "date_svc.py-line51 DEBUG: DateSvc.cutDataWithIndex: some index not found in data.index\n",
      "date_svc.py-line51 DEBUG: DateSvc.cutDataWithIndex: some index not found in data.index\n",
      "date_svc.py-line51 DEBUG: DateSvc.cutDataWithIndex: some index not found in data.index\n",
      "date_svc.py-line51 DEBUG: DateSvc.cutDataWithIndex: some index not found in data.index\n",
      "date_svc.py-line51 DEBUG: DateSvc.cutDataWithIndex: some index not found in data.index\n",
      "date_svc.py-line51 DEBUG: DateSvc.cutDataWithIndex: some index not found in data.index\n",
      "date_svc.py-line51 DEBUG: DateSvc.cutDataWithIndex: some index not found in data.index\n",
      "date_svc.py-line51 DEBUG: DateSvc.cutDataWithIndex: some index not found in data.index\n",
      "date_svc.py-line51 DEBUG: DateSvc.cutDataWithIndex: some index not found in data.index\n",
      "date_svc.py-line51 DEBUG: DateSvc.cutDataWithIndex: some index not found in data.index\n",
      "date_svc.py-line51 DEBUG: DateSvc.cutDataWithIndex: some index not found in data.index\n",
      "date_svc.py-line51 DEBUG: DateSvc.cutDataWithIndex: some index not found in data.index\n",
      "date_svc.py-line51 DEBUG: DateSvc.cutDataWithIndex: some index not found in data.index\n",
      "date_svc.py-line51 DEBUG: DateSvc.cutDataWithIndex: some index not found in data.index\n",
      "date_svc.py-line51 DEBUG: DateSvc.cutDataWithIndex: some index not found in data.index\n",
      "date_svc.py-line51 DEBUG: DateSvc.cutDataWithIndex: some index not found in data.index\n",
      "date_svc.py-line51 DEBUG: DateSvc.cutDataWithIndex: some index not found in data.index\n",
      "date_svc.py-line51 DEBUG: DateSvc.cutDataWithIndex: some index not found in data.index\n",
      "date_svc.py-line51 DEBUG: DateSvc.cutDataWithIndex: some index not found in data.index\n",
      "date_svc.py-line51 DEBUG: DateSvc.cutDataWithIndex: some index not found in data.index\n",
      "date_svc.py-line51 DEBUG: DateSvc.cutDataWithIndex: some index not found in data.index\n",
      "date_svc.py-line51 DEBUG: DateSvc.cutDataWithIndex: some index not found in data.index\n",
      "date_svc.py-line51 DEBUG: DateSvc.cutDataWithIndex: some index not found in data.index\n",
      "date_svc.py-line51 DEBUG: DateSvc.cutDataWithIndex: some index not found in data.index\n",
      "date_svc.py-line51 DEBUG: DateSvc.cutDataWithIndex: some index not found in data.index\n",
      "date_svc.py-line51 DEBUG: DateSvc.cutDataWithIndex: some index not found in data.index\n",
      "date_svc.py-line51 DEBUG: DateSvc.cutDataWithIndex: some index not found in data.index\n",
      "date_svc.py-line51 DEBUG: DateSvc.cutDataWithIndex: some index not found in data.index\n",
      "date_svc.py-line51 DEBUG: DateSvc.cutDataWithIndex: some index not found in data.index\n",
      "date_svc.py-line51 DEBUG: DateSvc.cutDataWithIndex: some index not found in data.index\n",
      "date_svc.py-line51 DEBUG: DateSvc.cutDataWithIndex: some index not found in data.index\n",
      "date_svc.py-line51 DEBUG: DateSvc.cutDataWithIndex: some index not found in data.index\n",
      "date_svc.py-line51 DEBUG: DateSvc.cutDataWithIndex: some index not found in data.index\n",
      "date_svc.py-line51 DEBUG: DateSvc.cutDataWithIndex: some index not found in data.index\n",
      "date_svc.py-line51 DEBUG: DateSvc.cutDataWithIndex: some index not found in data.index\n",
      "test_fof_strategy.py-line86 DEBUG: stock_fund_info_condition:   f_info_windcode     s_info_sector    fund_age  netasset_total  \\\n",
      "0       202005.OF  2001010201000000  117.066667    3.610531e+09   \n",
      "1       160105.SZ  2001010201000000  150.400000    9.036446e+08   \n",
      "2       160624.OF  2001010204000000   36.466667    3.039424e+08   \n",
      "3       160603.OF  2001010204000000  165.666667    5.753264e+08   \n",
      "4       160611.SZ  2001010101000000  117.500000    1.266747e+09   \n",
      "\n",
      "   f_prt_stocktotot  f_prt_bondtotot  fund_del  is_indexfund  \n",
      "0           75.9125           0.0525      -1.0           0.0  \n",
      "1           89.5325           0.3700      -1.0           0.0  \n",
      "2           88.9125           0.0800      -1.0           0.0  \n",
      "3           72.2625          20.5225      -1.0           0.0  \n",
      "4           71.7950           0.0000      -1.0           0.0   (65, 8)\n",
      "date_svc.py-line51 DEBUG: DateSvc.cutDataWithIndex: some index not found in data.index\n",
      "date_svc.py-line51 DEBUG: DateSvc.cutDataWithIndex: some index not found in data.index\n",
      "date_svc.py-line51 DEBUG: DateSvc.cutDataWithIndex: some index not found in data.index\n",
      "date_svc.py-line51 DEBUG: DateSvc.cutDataWithIndex: some index not found in data.index\n",
      "date_svc.py-line51 DEBUG: DateSvc.cutDataWithIndex: some index not found in data.index\n",
      "date_svc.py-line51 DEBUG: DateSvc.cutDataWithIndex: some index not found in data.index\n",
      "date_svc.py-line51 DEBUG: DateSvc.cutDataWithIndex: some index not found in data.index\n",
      "date_svc.py-line51 DEBUG: DateSvc.cutDataWithIndex: some index not found in data.index\n",
      "date_svc.py-line51 DEBUG: DateSvc.cutDataWithIndex: some index not found in data.index\n",
      "date_svc.py-line51 DEBUG: DateSvc.cutDataWithIndex: some index not found in data.index\n",
      "date_svc.py-line51 DEBUG: DateSvc.cutDataWithIndex: some index not found in data.index\n",
      "date_svc.py-line51 DEBUG: DateSvc.cutDataWithIndex: some index not found in data.index\n",
      "date_svc.py-line51 DEBUG: DateSvc.cutDataWithIndex: some index not found in data.index\n",
      "date_svc.py-line51 DEBUG: DateSvc.cutDataWithIndex: some index not found in data.index\n",
      "date_svc.py-line51 DEBUG: DateSvc.cutDataWithIndex: some index not found in data.index\n",
      "date_svc.py-line51 DEBUG: DateSvc.cutDataWithIndex: some index not found in data.index\n",
      "date_svc.py-line51 DEBUG: DateSvc.cutDataWithIndex: some index not found in data.index\n",
      "date_svc.py-line51 DEBUG: DateSvc.cutDataWithIndex: some index not found in data.index\n",
      "date_svc.py-line51 DEBUG: DateSvc.cutDataWithIndex: some index not found in data.index\n",
      "date_svc.py-line51 DEBUG: DateSvc.cutDataWithIndex: some index not found in data.index\n",
      "date_svc.py-line51 DEBUG: DateSvc.cutDataWithIndex: some index not found in data.index\n",
      "date_svc.py-line51 DEBUG: DateSvc.cutDataWithIndex: some index not found in data.index\n",
      "date_svc.py-line51 DEBUG: DateSvc.cutDataWithIndex: some index not found in data.index\n",
      "date_svc.py-line51 DEBUG: DateSvc.cutDataWithIndex: some index not found in data.index\n",
      "date_svc.py-line51 DEBUG: DateSvc.cutDataWithIndex: some index not found in data.index\n",
      "date_svc.py-line51 DEBUG: DateSvc.cutDataWithIndex: some index not found in data.index\n",
      "date_svc.py-line51 DEBUG: DateSvc.cutDataWithIndex: some index not found in data.index\n",
      "date_svc.py-line51 DEBUG: DateSvc.cutDataWithIndex: some index not found in data.index\n",
      "date_svc.py-line51 DEBUG: DateSvc.cutDataWithIndex: some index not found in data.index\n",
      "date_svc.py-line51 DEBUG: DateSvc.cutDataWithIndex: some index not found in data.index\n",
      "date_svc.py-line51 DEBUG: DateSvc.cutDataWithIndex: some index not found in data.index\n",
      "date_svc.py-line51 DEBUG: DateSvc.cutDataWithIndex: some index not found in data.index\n",
      "date_svc.py-line51 DEBUG: DateSvc.cutDataWithIndex: some index not found in data.index\n",
      "date_svc.py-line51 DEBUG: DateSvc.cutDataWithIndex: some index not found in data.index\n",
      "date_svc.py-line51 DEBUG: DateSvc.cutDataWithIndex: some index not found in data.index\n",
      "date_svc.py-line51 DEBUG: DateSvc.cutDataWithIndex: some index not found in data.index\n",
      "date_svc.py-line51 DEBUG: DateSvc.cutDataWithIndex: some index not found in data.index\n",
      "date_svc.py-line51 DEBUG: DateSvc.cutDataWithIndex: some index not found in data.index\n",
      "date_svc.py-line51 DEBUG: DateSvc.cutDataWithIndex: some index not found in data.index\n",
      "date_svc.py-line51 DEBUG: DateSvc.cutDataWithIndex: some index not found in data.index\n",
      "date_svc.py-line51 DEBUG: DateSvc.cutDataWithIndex: some index not found in data.index\n",
      "date_svc.py-line51 DEBUG: DateSvc.cutDataWithIndex: some index not found in data.index\n",
      "date_svc.py-line51 DEBUG: DateSvc.cutDataWithIndex: some index not found in data.index\n",
      "date_svc.py-line51 DEBUG: DateSvc.cutDataWithIndex: some index not found in data.index\n",
      "date_svc.py-line51 DEBUG: DateSvc.cutDataWithIndex: some index not found in data.index\n",
      "date_svc.py-line51 DEBUG: DateSvc.cutDataWithIndex: some index not found in data.index\n",
      "date_svc.py-line51 DEBUG: DateSvc.cutDataWithIndex: some index not found in data.index\n",
      "date_svc.py-line51 DEBUG: DateSvc.cutDataWithIndex: some index not found in data.index\n",
      "date_svc.py-line51 DEBUG: DateSvc.cutDataWithIndex: some index not found in data.index\n",
      "date_svc.py-line51 DEBUG: DateSvc.cutDataWithIndex: some index not found in data.index\n",
      "date_svc.py-line51 DEBUG: DateSvc.cutDataWithIndex: some index not found in data.index\n",
      "date_svc.py-line51 DEBUG: DateSvc.cutDataWithIndex: some index not found in data.index\n",
      "date_svc.py-line51 DEBUG: DateSvc.cutDataWithIndex: some index not found in data.index\n",
      "date_svc.py-line51 DEBUG: DateSvc.cutDataWithIndex: some index not found in data.index\n",
      "date_svc.py-line51 DEBUG: DateSvc.cutDataWithIndex: some index not found in data.index\n",
      "date_svc.py-line51 DEBUG: DateSvc.cutDataWithIndex: some index not found in data.index\n",
      "date_svc.py-line51 DEBUG: DateSvc.cutDataWithIndex: some index not found in data.index\n",
      "date_svc.py-line51 DEBUG: DateSvc.cutDataWithIndex: some index not found in data.index\n",
      "date_svc.py-line51 DEBUG: DateSvc.cutDataWithIndex: some index not found in data.index\n",
      "date_svc.py-line51 DEBUG: DateSvc.cutDataWithIndex: some index not found in data.index\n"
     ]
    }
   ],
   "source": [
    "from test_fof_strategy import TestFofStrategy\n",
    "\n",
    "# test\n",
    "tfs = TestFofStrategy('tfs')\n",
    "tfs.getDataset().print()\n",
    "\n",
    "tfs.setArgsForAlgs({\n",
    "    'select_fund_condition': filter_conditions\n",
    "})\n",
    "bond_fund_style, stock_fund_style = tfs.run(datetime(2016,12,31))"
   ]
  },
  {
   "cell_type": "code",
   "execution_count": 6,
   "metadata": {},
   "outputs": [
    {
     "name": "stdout",
     "output_type": "stream",
     "text": [
      "bond_fund_style: \n",
      "                default\n",
      "000503.OF  conservative\n",
      "550004.OF  conservative\n",
      "000143.OF  conservative\n",
      "202101.OF        active\n",
      "550018.OF        active\n",
      "(32, 1)\n",
      "**************************************************\n",
      "stock_fund_style: \n",
      "          value_growth   industry market_size\n",
      "160131.SZ        VALUE        NaN       LARGE\n",
      "519152.OF       GROWTH     GROWTH       SMALL\n",
      "000244.OF        VALUE  FINANCIAL       LARGE\n",
      "000054.OF       GROWTH     GROWTH         NaN\n",
      "000143.OF       GROWTH   CONSUMER       SMALL\n",
      "(47, 3)\n"
     ]
    }
   ],
   "source": [
    "print('bond_fund_style: ')\n",
    "print(bond_fund_style.head())\n",
    "print(bond_fund_style.shape)\n",
    "\n",
    "print('*' * 50)\n",
    "print('stock_fund_style: ')\n",
    "print(stock_fund_style.head())\n",
    "print(stock_fund_style.shape)"
   ]
  }
 ],
 "metadata": {
  "kernelspec": {
   "display_name": "Python 3.8.13 ('py38')",
   "language": "python",
   "name": "python3"
  },
  "language_info": {
   "codemirror_mode": {
    "name": "ipython",
    "version": 3
   },
   "file_extension": ".py",
   "mimetype": "text/x-python",
   "name": "python",
   "nbconvert_exporter": "python",
   "pygments_lexer": "ipython3",
   "version": "3.8.13"
  },
  "orig_nbformat": 4,
  "vscode": {
   "interpreter": {
    "hash": "2792964f3dcf50b23a92b033166e06ea17b539f17d690189f59366d68e27ccdb"
   }
  }
 },
 "nbformat": 4,
 "nbformat_minor": 2
}
