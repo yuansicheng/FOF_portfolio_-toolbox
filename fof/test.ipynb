{
 "cells": [
  {
   "cell_type": "markdown",
   "metadata": {},
   "source": [
    "# 测试FOF流程"
   ]
  },
  {
   "cell_type": "code",
   "execution_count": 1,
   "metadata": {},
   "outputs": [
    {
     "name": "stdout",
     "output_type": "stream",
     "text": [
      "init YamlSvc\n",
      "init YamlSvc\n",
      "init LxwWinddbRawDataSvc\n",
      "init MysqlDbConnectorSvc\n",
      "init DateSvc\n",
      "init ConstantSvc\n",
      "init IndicatorSvc\n"
     ]
    }
   ],
   "source": [
    "import os, sys, argparse, logging\n",
    "\n",
    "import matplotlib\n",
    "import matplotlib.pyplot as plt\n",
    "\n",
    "matplotlib.rcParams['font.family'] = 'SimHei'\n",
    "plt.rcParams['axes.unicode_minus'] = False\n",
    "\n",
    "import pandas as pd\n",
    "import numpy as np\n",
    "from datetime import datetime\n",
    "from copy import deepcopy\n",
    "from tqdm import tqdm\n",
    "from sklearn.decomposition import PCA\n",
    "import statsmodels.api as sm\n",
    "from time import time\n",
    "\n",
    "this_path = os.path.abspath('.')\n",
    "if this_path not in sys.path:\n",
    "    sys.path.append(this_path)\n",
    "\n",
    "framework_path = os.path.join(os.path.abspath(''), '../framework')\n",
    "if framework_path not in sys.path:\n",
    "    sys.path.append(framework_path)\n",
    "\n",
    "from light_weight_backtest_manager.backtest import *\n",
    "\n",
    "from merge_fund_raw_data import MergeFundRawDataAlg\n",
    "from select_fund_type import SelectFundTypeAlg\n",
    "from select_fund_condition import SelectFundConditionAlg\n",
    "from fund_style_identification_alg import *\n",
    "\n",
    "from import_func import getSvc \n",
    "yaml_svc = getSvc('YamlSvc')\n",
    "constant_svc = getSvc('ConstantSvc')\n",
    "raw_data_svc = getSvc('LxwWinddbRawDataSvc')\n",
    "date_svc = getSvc('DateSvc')\n",
    "\n",
    "date_svc.setTradeDays(raw_data_svc.getTradeDays())\n",
    "indicator_svc = getSvc('IndicatorSvc')\n",
    "\n",
    "# from component.asset.asset import Asset"
   ]
  },
  {
   "cell_type": "markdown",
   "metadata": {},
   "source": [
    "由于FOF策略需要大量的基金数据，计算非常慢，如果中间出问题会浪费大量时间，因此将回测分为两步\n",
    "\n",
    "1. 第一次循环确定投资的基金；\n",
    "2. 第二次计算净值；"
   ]
  },
  {
   "cell_type": "code",
   "execution_count": 2,
   "metadata": {},
   "outputs": [],
   "source": [
    "# 债券基金筛选条件\n",
    "bond_filter_condition = {\n",
    "    'fund_age':3*12,                # 基金年龄 >= n 个月  \n",
    "    'fund_del': -1e-8, # 基金停牌时间 < 0\n",
    "    'netasset_total':2e8,    # 基金规模 >= n 元\n",
    "    'f_prt_stocktotot': -30            # 过去4个季度，股票平均仓位 <= 30\n",
    "}\n",
    "\n",
    "# 股票基金筛选条件\n",
    "stock_filter_condition = {\n",
    "    'fund_age':3*12,                # 基金年龄 >= n 个月  \n",
    "    'fund_del': -1e-8, # 基金停牌时间 < 0\n",
    "    'netasset_total':2e8,    # 基金规模 >= n 元\n",
    "    'f_prt_stocktotot': 60,           # 过去4个季度，股票平均仓位 >= 60\n",
    "    'is_indexfund': -0.5   # 不是指数基金\n",
    "}"
   ]
  },
  {
   "cell_type": "code",
   "execution_count": 3,
   "metadata": {},
   "outputs": [],
   "source": [
    "merge_fund_raw_data_alg = MergeFundRawDataAlg()\n",
    "select_fund_type_alg = SelectFundTypeAlg()\n",
    "select_fund_condition_alg = SelectFundConditionAlg(bond_conditions=bond_filter_condition, stock_conditions=stock_filter_condition)\n",
    "campisi = Campisi()"
   ]
  },
  {
   "cell_type": "code",
   "execution_count": 4,
   "metadata": {},
   "outputs": [],
   "source": [
    "class SelectFundsStrategy(Strategy):\n",
    "    def __init__(self, run_date=[]):\n",
    "        self._merge_fund_raw_data_alg = merge_fund_raw_data_alg\n",
    "        self._select_fund_type_alg = select_fund_type_alg\n",
    "        self._select_fund_condition_alg = select_fund_condition_alg\n",
    "        self._campisi = campisi\n",
    "\n",
    "        self._bonds = {}\n",
    "\n",
    "        self._run_date = run_date\n",
    "\n",
    "    def run(self, id_date, asset_data):\n",
    "        if id_date not in self._run_date:\n",
    "            return None\n",
    "        # 获取所有可交易的基金\n",
    "        fund_info = self._merge_fund_raw_data_alg.run(id_date)\n",
    "\n",
    "        ############################################\n",
    "\n",
    "        # 债券型基金\n",
    "        bond_fund_info_type = self._select_fund_type_alg.run(fund_info.copy(), type_='bond')\n",
    "        \n",
    "        bond_fund_info_condition = self._select_fund_condition_alg.run(bond_fund_info_type, type_='bond')\n",
    "\n",
    "        print('{} -- bond_fund_info_condition.shape[0] {}'.format(id_date, bond_fund_info_condition.shape[0]))\n",
    "\n",
    "        selected_funds = self._campisi.getBestScoreFunds(id_date, bond_fund_info_condition)\n",
    "\n",
    "        self._bonds[id_date] = selected_funds\n",
    "        return None\n"
   ]
  },
  {
   "cell_type": "code",
   "execution_count": 5,
   "metadata": {},
   "outputs": [],
   "source": [
    "date_range = [datetime(2011,1,1), datetime(2022, 12, 31)]\n",
    "date_index = date_svc.getIndexWithRange(date_range[0], date_range[1]).index\n",
    "dummy_asset = pd.DataFrame(1, index=date_index, columns=['asset0'])"
   ]
  },
  {
   "cell_type": "code",
   "execution_count": 6,
   "metadata": {},
   "outputs": [
    {
     "name": "stderr",
     "output_type": "stream",
     "text": [
      "  0%|          | 0/1335 [00:00<?, ?it/s]"
     ]
    },
    {
     "name": "stdout",
     "output_type": "stream",
     "text": [
      "2017-01-03 00:00:00 -- bond_fund_info_condition.shape[0] 114\n"
     ]
    },
    {
     "name": "stderr",
     "output_type": "stream",
     "text": [
      "c:\\Users\\yuans\\Anaconda3\\envs\\py38\\lib\\site-packages\\quantstats\\stats.py:552: RuntimeWarning: divide by zero encountered in double_scalars\n",
      "  return cagr_ratio / abs(max_dd)\n",
      "c:\\Users\\yuans\\Anaconda3\\envs\\py38\\lib\\site-packages\\quantstats\\stats.py:552: RuntimeWarning: divide by zero encountered in double_scalars\n",
      "  return cagr_ratio / abs(max_dd)\n",
      "c:\\Users\\yuans\\Anaconda3\\envs\\py38\\lib\\site-packages\\quantstats\\stats.py:552: RuntimeWarning: divide by zero encountered in double_scalars\n",
      "  return cagr_ratio / abs(max_dd)\n",
      "c:\\Users\\yuans\\Anaconda3\\envs\\py38\\lib\\site-packages\\quantstats\\stats.py:552: RuntimeWarning: divide by zero encountered in double_scalars\n",
      "  return cagr_ratio / abs(max_dd)\n",
      "  4%|▍         | 54/1335 [02:37<28:40,  1.34s/it]   "
     ]
    },
    {
     "name": "stdout",
     "output_type": "stream",
     "text": [
      "2017-04-05 00:00:00 -- bond_fund_info_condition.shape[0] 119\n"
     ]
    },
    {
     "name": "stderr",
     "output_type": "stream",
     "text": [
      "  4%|▍         | 54/1335 [02:47<28:40,  1.34s/it]c:\\Users\\yuans\\Anaconda3\\envs\\py38\\lib\\site-packages\\quantstats\\stats.py:552: RuntimeWarning: divide by zero encountered in double_scalars\n",
      "  return cagr_ratio / abs(max_dd)\n",
      "c:\\Users\\yuans\\Anaconda3\\envs\\py38\\lib\\site-packages\\quantstats\\stats.py:552: RuntimeWarning: divide by zero encountered in double_scalars\n",
      "  return cagr_ratio / abs(max_dd)\n",
      "c:\\Users\\yuans\\Anaconda3\\envs\\py38\\lib\\site-packages\\quantstats\\stats.py:552: RuntimeWarning: divide by zero encountered in double_scalars\n",
      "  return cagr_ratio / abs(max_dd)\n",
      "c:\\Users\\yuans\\Anaconda3\\envs\\py38\\lib\\site-packages\\quantstats\\stats.py:552: RuntimeWarning: divide by zero encountered in double_scalars\n",
      "  return cagr_ratio / abs(max_dd)\n",
      "  7%|▋         | 100/1335 [02:55<11:19,  1.82it/s]"
     ]
    },
    {
     "name": "stdout",
     "output_type": "stream",
     "text": [
      "2017-07-03 00:00:00 -- bond_fund_info_condition.shape[0] 125\n"
     ]
    },
    {
     "name": "stderr",
     "output_type": "stream",
     "text": [
      "  7%|▋         | 100/1335 [03:09<11:19,  1.82it/s]c:\\Users\\yuans\\Anaconda3\\envs\\py38\\lib\\site-packages\\quantstats\\stats.py:552: RuntimeWarning: divide by zero encountered in double_scalars\n",
      "  return cagr_ratio / abs(max_dd)\n",
      "c:\\Users\\yuans\\Anaconda3\\envs\\py38\\lib\\site-packages\\quantstats\\stats.py:552: RuntimeWarning: divide by zero encountered in double_scalars\n",
      "  return cagr_ratio / abs(max_dd)\n",
      "c:\\Users\\yuans\\Anaconda3\\envs\\py38\\lib\\site-packages\\quantstats\\stats.py:552: RuntimeWarning: divide by zero encountered in double_scalars\n",
      "  return cagr_ratio / abs(max_dd)\n",
      " 14%|█▎        | 181/1335 [03:19<04:33,  4.22it/s]"
     ]
    },
    {
     "name": "stdout",
     "output_type": "stream",
     "text": [
      "2017-10-09 00:00:00 -- bond_fund_info_condition.shape[0] 130\n"
     ]
    },
    {
     "name": "stderr",
     "output_type": "stream",
     "text": [
      " 14%|█▎        | 181/1335 [03:29<04:33,  4.22it/s]c:\\Users\\yuans\\Anaconda3\\envs\\py38\\lib\\site-packages\\quantstats\\stats.py:552: RuntimeWarning: divide by zero encountered in double_scalars\n",
      "  return cagr_ratio / abs(max_dd)\n",
      "c:\\Users\\yuans\\Anaconda3\\envs\\py38\\lib\\site-packages\\quantstats\\stats.py:552: RuntimeWarning: divide by zero encountered in double_scalars\n",
      "  return cagr_ratio / abs(max_dd)\n",
      "c:\\Users\\yuans\\Anaconda3\\envs\\py38\\lib\\site-packages\\quantstats\\stats.py:552: RuntimeWarning: divide by zero encountered in double_scalars\n",
      "  return cagr_ratio / abs(max_dd)\n",
      " 17%|█▋        | 232/1335 [03:43<04:49,  3.80it/s]"
     ]
    },
    {
     "name": "stdout",
     "output_type": "stream",
     "text": [
      "2018-01-02 00:00:00 -- bond_fund_info_condition.shape[0] 119\n"
     ]
    },
    {
     "name": "stderr",
     "output_type": "stream",
     "text": [
      "c:\\Users\\yuans\\Anaconda3\\envs\\py38\\lib\\site-packages\\quantstats\\stats.py:552: RuntimeWarning: divide by zero encountered in double_scalars\n",
      "  return cagr_ratio / abs(max_dd)\n",
      "c:\\Users\\yuans\\Anaconda3\\envs\\py38\\lib\\site-packages\\quantstats\\stats.py:552: RuntimeWarning: divide by zero encountered in double_scalars\n",
      "  return cagr_ratio / abs(max_dd)\n",
      " 22%|██▏       | 299/1335 [03:57<03:07,  5.51it/s]"
     ]
    },
    {
     "name": "stdout",
     "output_type": "stream",
     "text": [
      "2018-04-02 00:00:00 -- bond_fund_info_condition.shape[0] 109\n"
     ]
    },
    {
     "name": "stderr",
     "output_type": "stream",
     "text": [
      "c:\\Users\\yuans\\Anaconda3\\envs\\py38\\lib\\site-packages\\quantstats\\stats.py:552: RuntimeWarning: divide by zero encountered in double_scalars\n",
      "  return cagr_ratio / abs(max_dd)\n",
      "c:\\Users\\yuans\\Anaconda3\\envs\\py38\\lib\\site-packages\\quantstats\\stats.py:552: RuntimeWarning: divide by zero encountered in double_scalars\n",
      "  return cagr_ratio / abs(max_dd)\n",
      " 26%|██▌       | 345/1335 [04:06<02:45,  5.96it/s]"
     ]
    },
    {
     "name": "stdout",
     "output_type": "stream",
     "text": [
      "2018-07-02 00:00:00 -- bond_fund_info_condition.shape[0] 106\n"
     ]
    },
    {
     "name": "stderr",
     "output_type": "stream",
     "text": [
      "c:\\Users\\yuans\\Anaconda3\\envs\\py38\\lib\\site-packages\\quantstats\\stats.py:552: RuntimeWarning: divide by zero encountered in double_scalars\n",
      "  return cagr_ratio / abs(max_dd)\n",
      "c:\\Users\\yuans\\Anaconda3\\envs\\py38\\lib\\site-packages\\quantstats\\stats.py:552: RuntimeWarning: divide by zero encountered in double_scalars\n",
      "  return cagr_ratio / abs(max_dd)\n",
      " 31%|███       | 415/1335 [04:18<01:58,  7.78it/s]"
     ]
    },
    {
     "name": "stdout",
     "output_type": "stream",
     "text": [
      "2018-10-08 00:00:00 -- bond_fund_info_condition.shape[0] 123\n"
     ]
    },
    {
     "name": "stderr",
     "output_type": "stream",
     "text": [
      " 31%|███       | 415/1335 [04:32<01:58,  7.78it/s]c:\\Users\\yuans\\Anaconda3\\envs\\py38\\lib\\site-packages\\quantstats\\stats.py:552: RuntimeWarning: divide by zero encountered in double_scalars\n",
      "  return cagr_ratio / abs(max_dd)\n",
      "c:\\Users\\yuans\\Anaconda3\\envs\\py38\\lib\\site-packages\\quantstats\\stats.py:552: RuntimeWarning: divide by zero encountered in double_scalars\n",
      "  return cagr_ratio / abs(max_dd)\n",
      " 36%|███▌      | 476/1335 [04:38<02:35,  5.53it/s]"
     ]
    },
    {
     "name": "stdout",
     "output_type": "stream",
     "text": [
      "2019-01-02 00:00:00 -- bond_fund_info_condition.shape[0] 151\n"
     ]
    },
    {
     "name": "stderr",
     "output_type": "stream",
     "text": [
      " 36%|███▌      | 476/1335 [04:52<02:35,  5.53it/s]c:\\Users\\yuans\\Anaconda3\\envs\\py38\\lib\\site-packages\\quantstats\\stats.py:552: RuntimeWarning: divide by zero encountered in double_scalars\n",
      "  return cagr_ratio / abs(max_dd)\n",
      " 41%|████      | 542/1335 [05:21<04:24,  3.00it/s]"
     ]
    },
    {
     "name": "stdout",
     "output_type": "stream",
     "text": [
      "2019-04-01 00:00:00 -- bond_fund_info_condition.shape[0] 177\n"
     ]
    },
    {
     "name": "stderr",
     "output_type": "stream",
     "text": [
      " 43%|████▎     | 576/1335 [06:06<07:58,  1.59it/s]"
     ]
    },
    {
     "name": "stdout",
     "output_type": "stream",
     "text": [
      "2019-07-01 00:00:00 -- bond_fund_info_condition.shape[0] 214\n"
     ]
    },
    {
     "name": "stderr",
     "output_type": "stream",
     "text": [
      " 43%|████▎     | 576/1335 [06:26<07:58,  1.59it/s]c:\\Users\\yuans\\Anaconda3\\envs\\py38\\lib\\site-packages\\quantstats\\stats.py:552: RuntimeWarning: divide by zero encountered in double_scalars\n",
      "  return cagr_ratio / abs(max_dd)\n",
      " 49%|████▉     | 660/1335 [07:01<05:36,  2.01it/s]"
     ]
    },
    {
     "name": "stdout",
     "output_type": "stream",
     "text": [
      "2019-10-08 00:00:00 -- bond_fund_info_condition.shape[0] 287\n"
     ]
    },
    {
     "name": "stderr",
     "output_type": "stream",
     "text": [
      " 49%|████▉     | 660/1335 [07:18<05:36,  2.01it/s]c:\\Users\\yuans\\Anaconda3\\envs\\py38\\lib\\site-packages\\quantstats\\stats.py:552: RuntimeWarning: divide by zero encountered in double_scalars\n",
      "  return cagr_ratio / abs(max_dd)\n",
      " 53%|█████▎    | 701/1335 [08:47<12:39,  1.20s/it]"
     ]
    },
    {
     "name": "stdout",
     "output_type": "stream",
     "text": [
      "2020-01-02 00:00:00 -- bond_fund_info_condition.shape[0] 413\n"
     ]
    },
    {
     "name": "stderr",
     "output_type": "stream",
     "text": [
      " 53%|█████▎    | 701/1335 [09:02<12:39,  1.20s/it]c:\\Users\\yuans\\Anaconda3\\envs\\py38\\lib\\site-packages\\quantstats\\stats.py:552: RuntimeWarning: divide by zero encountered in double_scalars\n",
      "  return cagr_ratio / abs(max_dd)\n",
      " 57%|█████▋    | 761/1335 [11:38<17:47,  1.86s/it]"
     ]
    },
    {
     "name": "stdout",
     "output_type": "stream",
     "text": [
      "2020-04-01 00:00:00 -- bond_fund_info_condition.shape[0] 472\n"
     ]
    },
    {
     "name": "stderr",
     "output_type": "stream",
     "text": [
      " 57%|█████▋    | 761/1335 [11:49<17:47,  1.86s/it]c:\\Users\\yuans\\Anaconda3\\envs\\py38\\lib\\site-packages\\quantstats\\stats.py:552: RuntimeWarning: divide by zero encountered in double_scalars\n",
      "  return cagr_ratio / abs(max_dd)\n",
      " 61%|██████▏   | 820/1335 [13:30<14:33,  1.70s/it]"
     ]
    },
    {
     "name": "stdout",
     "output_type": "stream",
     "text": [
      "2020-07-01 00:00:00 -- bond_fund_info_condition.shape[0] 506\n"
     ]
    },
    {
     "name": "stderr",
     "output_type": "stream",
     "text": [
      " 61%|██████▏   | 820/1335 [13:42<14:33,  1.70s/it]c:\\Users\\yuans\\Anaconda3\\envs\\py38\\lib\\site-packages\\quantstats\\stats.py:552: RuntimeWarning: divide by zero encountered in double_scalars\n",
      "  return cagr_ratio / abs(max_dd)\n",
      " 67%|██████▋   | 899/1335 [14:37<07:07,  1.02it/s]"
     ]
    },
    {
     "name": "stdout",
     "output_type": "stream",
     "text": [
      "2020-10-09 00:00:00 -- bond_fund_info_condition.shape[0] 522\n"
     ]
    },
    {
     "name": "stderr",
     "output_type": "stream",
     "text": [
      " 67%|██████▋   | 899/1335 [14:54<07:07,  1.02it/s]c:\\Users\\yuans\\Anaconda3\\envs\\py38\\lib\\site-packages\\quantstats\\stats.py:552: RuntimeWarning: divide by zero encountered in double_scalars\n",
      "  return cagr_ratio / abs(max_dd)\n",
      " 71%|███████   | 944/1335 [15:51<07:21,  1.13s/it]"
     ]
    },
    {
     "name": "stdout",
     "output_type": "stream",
     "text": [
      "2021-01-04 00:00:00 -- bond_fund_info_condition.shape[0] 559\n"
     ]
    },
    {
     "name": "stderr",
     "output_type": "stream",
     "text": [
      " 71%|███████   | 944/1335 [16:07<07:21,  1.13s/it]c:\\Users\\yuans\\Anaconda3\\envs\\py38\\lib\\site-packages\\quantstats\\stats.py:552: RuntimeWarning: divide by zero encountered in double_scalars\n",
      "  return cagr_ratio / abs(max_dd)\n",
      " 75%|███████▌  | 1005/1335 [17:21<06:28,  1.18s/it]"
     ]
    },
    {
     "name": "stdout",
     "output_type": "stream",
     "text": [
      "2021-04-01 00:00:00 -- bond_fund_info_condition.shape[0] 610\n"
     ]
    },
    {
     "name": "stderr",
     "output_type": "stream",
     "text": [
      " 75%|███████▌  | 1005/1335 [17:42<06:28,  1.18s/it]c:\\Users\\yuans\\Anaconda3\\envs\\py38\\lib\\site-packages\\quantstats\\stats.py:552: RuntimeWarning: divide by zero encountered in double_scalars\n",
      "  return cagr_ratio / abs(max_dd)\n",
      " 82%|████████▏ | 1092/1335 [19:13<03:55,  1.03it/s]"
     ]
    },
    {
     "name": "stdout",
     "output_type": "stream",
     "text": [
      "2021-07-01 00:00:00 -- bond_fund_info_condition.shape[0] 657\n"
     ]
    },
    {
     "name": "stderr",
     "output_type": "stream",
     "text": [
      " 82%|████████▏ | 1092/1335 [19:26<03:55,  1.03it/s]c:\\Users\\yuans\\Anaconda3\\envs\\py38\\lib\\site-packages\\quantstats\\stats.py:552: RuntimeWarning: divide by zero encountered in double_scalars\n",
      "  return cagr_ratio / abs(max_dd)\n",
      " 86%|████████▋ | 1152/1335 [21:01<03:05,  1.01s/it]"
     ]
    },
    {
     "name": "stdout",
     "output_type": "stream",
     "text": [
      "2021-10-08 00:00:00 -- bond_fund_info_condition.shape[0] 724\n"
     ]
    },
    {
     "name": "stderr",
     "output_type": "stream",
     "text": [
      " 86%|████████▋ | 1152/1335 [21:11<03:05,  1.01s/it]c:\\Users\\yuans\\Anaconda3\\envs\\py38\\lib\\site-packages\\quantstats\\stats.py:552: RuntimeWarning: divide by zero encountered in double_scalars\n",
      "  return cagr_ratio / abs(max_dd)\n",
      " 89%|████████▉ | 1193/1335 [23:01<03:41,  1.56s/it]"
     ]
    },
    {
     "name": "stdout",
     "output_type": "stream",
     "text": [
      "2022-01-04 00:00:00 -- bond_fund_info_condition.shape[0] 806\n"
     ]
    },
    {
     "name": "stderr",
     "output_type": "stream",
     "text": [
      " 89%|████████▉ | 1193/1335 [23:17<03:41,  1.56s/it]c:\\Users\\yuans\\Anaconda3\\envs\\py38\\lib\\site-packages\\quantstats\\stats.py:552: RuntimeWarning: divide by zero encountered in double_scalars\n",
      "  return cagr_ratio / abs(max_dd)\n",
      " 94%|█████████▎| 1251/1335 [25:01<02:16,  1.62s/it]"
     ]
    },
    {
     "name": "stdout",
     "output_type": "stream",
     "text": [
      "2022-04-01 00:00:00 -- bond_fund_info_condition.shape[0] 845\n"
     ]
    },
    {
     "name": "stderr",
     "output_type": "stream",
     "text": [
      " 94%|█████████▎| 1251/1335 [25:14<02:16,  1.62s/it]c:\\Users\\yuans\\Anaconda3\\envs\\py38\\lib\\site-packages\\quantstats\\stats.py:552: RuntimeWarning: divide by zero encountered in double_scalars\n",
      "  return cagr_ratio / abs(max_dd)\n",
      "c:\\Users\\yuans\\Anaconda3\\envs\\py38\\lib\\site-packages\\quantstats\\stats.py:552: RuntimeWarning: divide by zero encountered in double_scalars\n",
      "  return cagr_ratio / abs(max_dd)\n",
      " 98%|█████████▊| 1312/1335 [26:33<00:32,  1.40s/it]"
     ]
    },
    {
     "name": "stdout",
     "output_type": "stream",
     "text": [
      "2022-07-01 00:00:00 -- bond_fund_info_condition.shape[0] 922\n"
     ]
    },
    {
     "name": "stderr",
     "output_type": "stream",
     "text": [
      " 98%|█████████▊| 1312/1335 [26:47<00:32,  1.40s/it]c:\\Users\\yuans\\Anaconda3\\envs\\py38\\lib\\site-packages\\quantstats\\stats.py:552: RuntimeWarning: divide by zero encountered in double_scalars\n",
      "  return cagr_ratio / abs(max_dd)\n",
      "c:\\Users\\yuans\\Anaconda3\\envs\\py38\\lib\\site-packages\\quantstats\\stats.py:552: RuntimeWarning: divide by zero encountered in double_scalars\n",
      "  return cagr_ratio / abs(max_dd)\n",
      "100%|██████████| 1335/1335 [28:42<00:00,  1.29s/it]\n"
     ]
    }
   ],
   "source": [
    "date_range = [datetime(2017,1,1), datetime(2022, 7, 1)]\n",
    "run_date = date_svc.filterDateIndex(date_index, frequency='quarterly')\n",
    "\n",
    "select_funds_backtest = BacktestManager(\n",
    "    SelectFundsStrategy(run_date=run_date), \n",
    "    dummy_asset, \n",
    "    date_range = date_range, \n",
    "    frequency = 1, \n",
    "    look_back = 252, \n",
    ")\n",
    "select_funds_backtest.run()\n"
   ]
  },
  {
   "cell_type": "code",
   "execution_count": 7,
   "metadata": {},
   "outputs": [
    {
     "name": "stdout",
     "output_type": "stream",
     "text": [
      "2017-01-03 00:00:00 ['000254.OF', '000317.OF', '000429.OF', '050027.OF', '163210.SZ', '163910.OF', '166902.SZ', '166904.SZ', '519152.OF', '650001.OF']\n",
      "2017-04-05 00:00:00 ['000286.OF', '000317.OF', '000429.OF', '050027.OF', '163210.SZ', '163826.OF', '163910.OF', '166902.SZ', '166904.SZ', '519152.OF']\n",
      "2017-07-03 00:00:00 ['000174.OF', '000286.OF', '000317.OF', '000429.OF', '000632!1.OF', '050027.OF', '166902.SZ', '166904.SZ', '519152.OF', '519669.OF']\n",
      "2017-10-09 00:00:00 ['000286.OF', '000317.OF', '000387.OF', '000429.OF', '000769.OF', '110007.OF', '163826.OF', '163910.OF', '166902.SZ', '519152.OF']\n",
      "2018-01-02 00:00:00 ['000286.OF', '000346.OF', '000429.OF', '000744.OF', '000769.OF', '040040.OF', '166902.SZ', '270044.OF', '519152.OF', '519669.OF']\n",
      "2018-04-02 00:00:00 ['000286.OF', '000346.OF', '000419.OF', '000429.OF', '000744.OF', '040040.OF', '166902.SZ', '270044.OF', '519152.OF', '519669.OF']\n",
      "2018-07-02 00:00:00 ['000346.OF', '000419.OF', '000429.OF', '000744.OF', '162715.SZ', '166902.SZ', '519061.OF', '519152.OF', '519669.OF', '686868.OF']\n",
      "2018-10-08 00:00:00 ['000346.OF', '000419.OF', '000744.OF', '001578.OF', '001776.OF', '001911.OF', '040040.OF', '161117.SZ', '166902.SZ', '217003.OF']\n",
      "2019-01-02 00:00:00 ['000694.OF', '000744.OF', '001578.OF', '001776.OF', '001993.OF', '160128.SZ', '161117.SZ', '163210.SZ', '166902.SZ', '217003.OF']\n",
      "2019-04-01 00:00:00 ['000053.OF', '000345.OF', '000694.OF', '001578.OF', '001776.OF', '001993.OF', '002549.OF', '160128.SZ', '163210.SZ', '166902.SZ']\n",
      "2019-07-01 00:00:00 ['000053.OF', '000345.OF', '000694.OF', '001578.OF', '001776.OF', '100058.OF', '160128.SZ', '160618.SZ', '161911.SZ', '166902.SZ']\n",
      "2019-10-08 00:00:00 ['000053.OF', '000345.OF', '001776.OF', '002354.OF', '002811.OF', '003382.OF', '003406.OF', '003547.OF', '100058.OF', '100072.OF']\n",
      "2020-01-02 00:00:00 ['000053.OF', '000914.OF', '001776.OF', '003547.OF', '003682.OF', '003859.OF', '004127.OF', '004200.OF', '100058.OF', '100072.OF']\n",
      "2020-04-01 00:00:00 ['000053.OF', '001776.OF', '002869.OF', '003547.OF', '003673.OF', '003859.OF', '004200.OF', '100072.OF', '166012.SZ', '675100.OF']\n",
      "2020-07-01 00:00:00 ['002073.OF', '002354.OF', '002381.OF', '002869.OF', '003547.OF', '004127.OF', '004200.OF', '100072.OF', '400030.OF', '519137.OF']\n",
      "2020-10-09 00:00:00 ['000931.OF', '002073.OF', '002381.OF', '002869.OF', '003258.OF', '003547.OF', '004127.OF', '004200.OF', '160515.SZ', '400030.OF']\n",
      "2021-01-04 00:00:00 ['000024.OF', '000116.OF', '000931.OF', '002073.OF', '002354.OF', '002869.OF', '003258.OF', '003547.OF', '004544.OF', '160515.SZ']\n",
      "2021-04-01 00:00:00 ['000024.OF', '000931.OF', '001546.OF', '002073.OF', '002486.OF', '002650.OF', '003547.OF', '004736.OF', '005307.OF', '005712.OF']\n",
      "2021-07-01 00:00:00 ['000931.OF', '001546.OF', '001776.OF', '001819.OF', '002073.OF', '004118.OF', '004736.OF', '005637.OF', '675161.OF', '750002.OF']\n",
      "2021-10-08 00:00:00 ['000931.OF', '001546.OF', '002337.OF', '003065.OF', '003549.OF', '004118.OF', '005476.OF', '005637.OF', '005719.OF', '675161.OF']\n",
      "2022-01-04 00:00:00 ['001299.OF', '001546.OF', '002337.OF', '003265.OF', '003859.OF', '004322.OF', '005637.OF', '006332.OF', '006383.OF', '675161.OF']\n",
      "2022-04-01 00:00:00 ['001546.OF', '002704.OF', '003102.OF', '003547.OF', '004118.OF', '004322.OF', '004827.OF', '005637.OF', '005719.OF', '006210.OF']\n",
      "2022-07-01 00:00:00 ['001246.OF', '001546.OF', '002704.OF', '003425.OF', '003547.OF', '004118.OF', '004827.OF', '005637.OF', '005719.OF', '006210.OF']\n"
     ]
    }
   ],
   "source": [
    "for k,v in select_funds_backtest._strategy._bonds.items():\n",
    "    print(k, sorted(v))"
   ]
  },
  {
   "cell_type": "code",
   "execution_count": 8,
   "metadata": {},
   "outputs": [],
   "source": [
    "# make data\n",
    "fund_data = pd.DataFrame(index=date_index)\n",
    "for fund in set(sum(select_funds_backtest._strategy._bonds.values(), [])):\n",
    "    fund_data[fund] = select_funds_backtest._strategy._campisi._fund_asset[fund].getRawNavData()\n"
   ]
  },
  {
   "cell_type": "code",
   "execution_count": 9,
   "metadata": {},
   "outputs": [],
   "source": [
    "class TestFofStrategy(Strategy):\n",
    "    def __init__(self, selected_fund):\n",
    "        self._selected_fund = selected_fund\n",
    "\n",
    "    def run(self, id_date, asset_data):\n",
    "        # control the frequency\n",
    "        if id_date not in self._selected_fund:\n",
    "            return None\n",
    "\n",
    "        weights = pd.Series(0, index=asset_data.columns)\n",
    "        weights.loc[self._selected_fund[id_date]] = 1 / len(self._selected_fund[id_date])\n",
    "\n",
    "        return weights"
   ]
  },
  {
   "cell_type": "code",
   "execution_count": 10,
   "metadata": {},
   "outputs": [
    {
     "name": "stderr",
     "output_type": "stream",
     "text": [
      "100%|██████████| 1335/1335 [00:05<00:00, 245.62it/s]\n"
     ]
    }
   ],
   "source": [
    "date_range = [datetime(2017,1,1), datetime(2022, 7, 1)]\n",
    "fof_backtest = BacktestManager(\n",
    "    TestFofStrategy(selected_fund=select_funds_backtest._strategy._bonds), \n",
    "    fund_data, \n",
    "    date_range = date_range, \n",
    "    frequency = 1, \n",
    "    look_back = 252, \n",
    ")\n",
    "fof_backtest.run()"
   ]
  },
  {
   "cell_type": "code",
   "execution_count": 11,
   "metadata": {},
   "outputs": [
    {
     "data": {
      "text/plain": [
       "<AxesSubplot:>"
      ]
     },
     "execution_count": 11,
     "metadata": {},
     "output_type": "execute_result"
    },
    {
     "data": {
      "image/png": "[encoded data removed]",
      "text/plain": [
       "<Figure size 800x300 with 1 Axes>"
      ]
     },
     "metadata": {},
     "output_type": "display_data"
    }
   ],
   "source": [
    "fof_backtest.getHistoricalValue(scale=True).plot(figsize=(8,3), grid=True)"
   ]
  },
  {
   "cell_type": "code",
   "execution_count": 34,
   "metadata": {},
   "outputs": [
    {
     "data": {
      "text/plain": [
       "2017                     0.031979\n",
       "2018                     0.067220\n",
       "2019                     0.056710\n",
       "2020                     0.039898\n",
       "2021                     0.053888\n",
       "2022                     0.022282\n",
       "annualized_return        0.052050\n",
       "annualized_volatility    0.006410\n",
       "max_drawback             0.017022\n",
       "sharpe                   5.598699\n",
       "calmar                   3.563001\n",
       "dtype: float64"
      ]
     },
     "execution_count": 34,
     "metadata": {},
     "output_type": "execute_result"
    }
   ],
   "source": [
    "metrics = pd.Series(dtype=float)\n",
    "values = fof_backtest.getHistoricalValue(scale=True)\n",
    "\n",
    "# 分年度收益率\n",
    "for year in values.index.year.unique():\n",
    "    tmp = values.loc[str(year)]\n",
    "    metrics[str(year)] = tmp.iloc[-1] / tmp.iloc[0] - 1\n",
    "\n",
    "metrics['annualized_return'] = (values.iloc[-1]/values.iloc[0]) ** (constant_svc.DAY_OF_YEAR/values.shape[0]) - 1\n",
    "metrics['annualized_volatility'] = values.pct_change().std() * constant_svc.DAY_OF_YEAR**0.5\n",
    "metrics['max_drawback'] = max(max(values.iloc[:i])-min(values.iloc[i:]) for i in range(1, values.shape[0]))\n",
    "metrics['sharpe'] = indicator_svc.getSharpe(values.pct_change())\n",
    "metrics['calmar'] = indicator_svc.getCalmar(values.pct_change())\n",
    "\n",
    "metrics\n"
   ]
  }
 ],
 "metadata": {
  "interpreter": {
   "hash": "2a2a19ddea09eb63f5fb3396b4df9fda5b0a8f8a0e122eead7773c9f07ca9ee4"
  },
  "kernelspec": {
   "display_name": "Python 3.8.13 ('py38')",
   "language": "python",
   "name": "python3"
  },
  "language_info": {
   "codemirror_mode": {
    "name": "ipython",
    "version": 3
   },
   "file_extension": ".py",
   "mimetype": "text/x-python",
   "name": "python",
   "nbconvert_exporter": "python",
   "pygments_lexer": "ipython3",
   "version": "3.8.13"
  },
  "orig_nbformat": 4
 },
 "nbformat": 4,
 "nbformat_minor": 2
}
